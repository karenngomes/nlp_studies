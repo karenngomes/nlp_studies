{
  "nbformat": 4,
  "nbformat_minor": 0,
  "metadata": {
    "colab": {
      "provenance": [],
      "authorship_tag": "ABX9TyM7x7DoV0yGEutbH9tUGVqX",
      "include_colab_link": true
    },
    "kernelspec": {
      "name": "python3",
      "display_name": "Python 3"
    },
    "language_info": {
      "name": "python"
    }
  },
  "cells": [
    {
      "cell_type": "markdown",
      "metadata": {
        "id": "view-in-github",
        "colab_type": "text"
      },
      "source": [
        "<a href=\"https://colab.research.google.com/github/karenngomes/nlp_studies/blob/main/spacy.ipynb\" target=\"_parent\"><img src=\"https://colab.research.google.com/assets/colab-badge.svg\" alt=\"Open In Colab\"/></a>"
      ]
    },
    {
      "cell_type": "code",
      "execution_count": null,
      "metadata": {
        "id": "z2VHnLVWSiTi"
      },
      "outputs": [],
      "source": [
        "# instalar uma versão mais atualizada do spacy\n",
        "\n",
        "!pip install -U spacy==3.7.2"
      ]
    },
    {
      "cell_type": "code",
      "source": [
        "# ver a versão\n",
        "!pip show spacy"
      ],
      "metadata": {
        "colab": {
          "base_uri": "https://localhost:8080/"
        },
        "id": "NZpTLaJLUQQn",
        "outputId": "105e2fcf-76d5-41df-cdc4-dd50a304e9db"
      },
      "execution_count": 3,
      "outputs": [
        {
          "output_type": "stream",
          "name": "stdout",
          "text": [
            "Name: spacy\n",
            "Version: 3.7.2\n",
            "Summary: Industrial-strength Natural Language Processing (NLP) in Python\n",
            "Home-page: https://spacy.io\n",
            "Author: Explosion\n",
            "Author-email: contact@explosion.ai\n",
            "License: MIT\n",
            "Location: /usr/local/lib/python3.10/dist-packages\n",
            "Requires: catalogue, cymem, jinja2, langcodes, murmurhash, numpy, packaging, preshed, pydantic, requests, setuptools, smart-open, spacy-legacy, spacy-loggers, srsly, thinc, tqdm, typer, wasabi, weasel\n",
            "Required-by: en-core-web-sm, fastai\n"
          ]
        }
      ]
    },
    {
      "cell_type": "code",
      "source": [
        "# baixar um modelo pre-treinado. Tem 3 em cada idioma (inclusive em pt): pequeno (_sm), médio (_md) e grande (_lg)\n",
        "!python -m spacy download 'pt_core_news_lg'"
      ],
      "metadata": {
        "id": "8fbeERZDTNxF"
      },
      "execution_count": null,
      "outputs": []
    },
    {
      "cell_type": "code",
      "source": [
        "import spacy"
      ],
      "metadata": {
        "id": "no4MivcjUnco"
      },
      "execution_count": 5,
      "outputs": []
    },
    {
      "cell_type": "code",
      "source": [
        "nlp = spacy.load('pt_core_news_lg')"
      ],
      "metadata": {
        "id": "LhKvzo9JU1Af"
      },
      "execution_count": 6,
      "outputs": []
    },
    {
      "cell_type": "code",
      "source": [
        "print(type(nlp))"
      ],
      "metadata": {
        "colab": {
          "base_uri": "https://localhost:8080/"
        },
        "id": "VNyLLNaGVADT",
        "outputId": "73e9da56-5a1e-4cfa-d230-7a1ed1a2766b"
      },
      "execution_count": 7,
      "outputs": [
        {
          "output_type": "stream",
          "name": "stdout",
          "text": [
            "<class 'spacy.lang.pt.Portuguese'>\n"
          ]
        }
      ]
    },
    {
      "cell_type": "code",
      "source": [
        "print(nlp.pipe_names)"
      ],
      "metadata": {
        "colab": {
          "base_uri": "https://localhost:8080/"
        },
        "id": "pW4dpFK7VFsS",
        "outputId": "348800dd-8faf-4769-c9b1-c81ce7f7ffa0"
      },
      "execution_count": 8,
      "outputs": [
        {
          "output_type": "stream",
          "name": "stdout",
          "text": [
            "['tok2vec', 'morphologizer', 'parser', 'lemmatizer', 'attribute_ruler', 'ner']\n"
          ]
        }
      ]
    },
    {
      "cell_type": "code",
      "source": [
        "document = nlp(\"As ações do Magazine Luiza S.A., Franca, Brasil, acumularam baixa de 70% ao ano. Assim já devolveram todos os ganhos do período da pandemia\")"
      ],
      "metadata": {
        "id": "lme9TxYTVz4g"
      },
      "execution_count": 41,
      "outputs": []
    },
    {
      "cell_type": "markdown",
      "source": [
        "Se fosse carregar texto de um arquivo:\n",
        "\n",
        "\n",
        "```\n",
        "with open(\"documento.txt\", \"r\", encoding=\"utf-8\") as file:\n",
        "    texto = file.read()\n",
        "\n",
        "doc = nlp(texto)\n",
        "```\n",
        "\n"
      ],
      "metadata": {
        "id": "6x-3UHXGWTY7"
      }
    },
    {
      "cell_type": "code",
      "source": [
        "len(document.vocab)"
      ],
      "metadata": {
        "colab": {
          "base_uri": "https://localhost:8080/"
        },
        "id": "FZO6aboZWbB_",
        "outputId": "4be25adb-51d5-43a2-ac3c-f12d1f8506dd"
      },
      "execution_count": 42,
      "outputs": [
        {
          "output_type": "execute_result",
          "data": {
            "text/plain": [
              "383"
            ]
          },
          "metadata": {},
          "execution_count": 42
        }
      ]
    },
    {
      "cell_type": "code",
      "source": [
        "print(type(document))"
      ],
      "metadata": {
        "colab": {
          "base_uri": "https://localhost:8080/"
        },
        "id": "c7fF3NYcWj5y",
        "outputId": "e117ce06-0125-4f28-b333-5e6778392301"
      },
      "execution_count": 43,
      "outputs": [
        {
          "output_type": "stream",
          "name": "stdout",
          "text": [
            "<class 'spacy.tokens.doc.Doc'>\n"
          ]
        }
      ]
    },
    {
      "cell_type": "code",
      "source": [
        "for token in document:\n",
        "  print(token.text)"
      ],
      "metadata": {
        "colab": {
          "base_uri": "https://localhost:8080/"
        },
        "id": "m_om4lBkXHNM",
        "outputId": "7b7aa43c-e1af-44c9-fdbc-9c83f02e231e"
      },
      "execution_count": 44,
      "outputs": [
        {
          "output_type": "stream",
          "name": "stdout",
          "text": [
            "As\n",
            "ações\n",
            "do\n",
            "Magazine\n",
            "Luiza\n",
            "S.A.\n",
            ",\n",
            "Franca\n",
            ",\n",
            "Brasil\n",
            ",\n",
            "acumularam\n",
            "baixa\n",
            "de\n",
            "70\n",
            "%\n",
            "ao\n",
            "ano\n",
            ".\n",
            "Assim\n",
            "já\n",
            "devolveram\n",
            "todos\n",
            "os\n",
            "ganhos\n",
            "do\n",
            "período\n",
            "da\n",
            "pandemia\n"
          ]
        }
      ]
    },
    {
      "cell_type": "code",
      "source": [
        "document2 = nlp(\"Alegações extraordinárias requerem evidências extraordinárias. Carl Sagan: 'http://carlsagan.com'\")"
      ],
      "metadata": {
        "id": "yHuz0E1DYQYh"
      },
      "execution_count": 45,
      "outputs": []
    },
    {
      "cell_type": "code",
      "source": [
        "for token in document2:\n",
        "  print(token.text)"
      ],
      "metadata": {
        "colab": {
          "base_uri": "https://localhost:8080/"
        },
        "id": "xPHh7k3pYh-Q",
        "outputId": "d1dbbd28-b383-4851-8c35-b4d76a84bc07"
      },
      "execution_count": 46,
      "outputs": [
        {
          "output_type": "stream",
          "name": "stdout",
          "text": [
            "Alegações\n",
            "extraordinárias\n",
            "requerem\n",
            "evidências\n",
            "extraordinárias\n",
            ".\n",
            "Carl\n",
            "Sagan\n",
            ":\n",
            "'\n",
            "http://carlsagan.com\n",
            "'\n"
          ]
        }
      ]
    },
    {
      "cell_type": "code",
      "source": [
        "print(document[3])"
      ],
      "metadata": {
        "colab": {
          "base_uri": "https://localhost:8080/"
        },
        "id": "pUpNGcxMYsJF",
        "outputId": "2adf316d-4ad4-4c95-feca-2b0562341dd3"
      },
      "execution_count": 47,
      "outputs": [
        {
          "output_type": "stream",
          "name": "stdout",
          "text": [
            "Magazine\n"
          ]
        }
      ]
    },
    {
      "cell_type": "code",
      "source": [
        "print(document[3:5])"
      ],
      "metadata": {
        "colab": {
          "base_uri": "https://localhost:8080/"
        },
        "id": "GtZ6AhbzY23j",
        "outputId": "851eee6f-5dc5-4994-dc93-d81bd5f5f8e4"
      },
      "execution_count": 48,
      "outputs": [
        {
          "output_type": "stream",
          "name": "stdout",
          "text": [
            "Magazine Luiza\n"
          ]
        }
      ]
    },
    {
      "cell_type": "code",
      "source": [
        "print(len(document))"
      ],
      "metadata": {
        "colab": {
          "base_uri": "https://localhost:8080/"
        },
        "id": "9VwghpQ5Za75",
        "outputId": "9cea147a-34e7-4884-f960-96a1345ca17d"
      },
      "execution_count": 49,
      "outputs": [
        {
          "output_type": "stream",
          "name": "stdout",
          "text": [
            "29\n"
          ]
        }
      ]
    },
    {
      "cell_type": "code",
      "source": [
        "print(\"Tokens:\", [token.text for token in document])\n",
        "print(\"Stop word:\", [token.is_stop for token in document])\n",
        "print(\"Alfanumerico:\", [token.is_alpha for token in document])\n",
        "print(\"Maiúsculo:\", [token.is_upper for token in document])\n",
        "print(\"Pontuação:\", [token.is_punct for token in document])\n",
        "print(\"Número:\", [token.like_num for token in document])\n",
        "print(\"Senteça Inicial:\", [token.is_sent_start for token in document])"
      ],
      "metadata": {
        "colab": {
          "base_uri": "https://localhost:8080/"
        },
        "id": "WdrA_RLYZqyD",
        "outputId": "b4a8d4de-274d-4bda-a584-ec5092cd7b33"
      },
      "execution_count": 50,
      "outputs": [
        {
          "output_type": "stream",
          "name": "stdout",
          "text": [
            "Tokens: ['As', 'ações', 'do', 'Magazine', 'Luiza', 'S.A.', ',', 'Franca', ',', 'Brasil', ',', 'acumularam', 'baixa', 'de', '70', '%', 'ao', 'ano', '.', 'Assim', 'já', 'devolveram', 'todos', 'os', 'ganhos', 'do', 'período', 'da', 'pandemia']\n",
            "Stop word: [True, False, True, False, False, False, False, False, False, False, False, False, False, True, False, False, True, False, False, True, True, False, True, True, False, True, False, True, False]\n",
            "Alfanumerico: [True, True, True, True, True, False, False, True, False, True, False, True, True, True, False, False, True, True, False, True, True, True, True, True, True, True, True, True, True]\n",
            "Maiúsculo: [False, False, False, False, False, True, False, False, False, False, False, False, False, False, False, False, False, False, False, False, False, False, False, False, False, False, False, False, False]\n",
            "Pontuação: [False, False, False, False, False, False, True, False, True, False, True, False, False, False, False, True, False, False, True, False, False, False, False, False, False, False, False, False, False]\n",
            "Número: [False, False, False, False, False, False, False, False, False, False, False, False, False, False, True, False, False, False, False, False, False, False, False, False, False, False, False, False, False]\n",
            "Senteça Inicial: [True, False, False, False, False, False, False, False, False, False, False, False, False, False, False, False, False, False, False, True, False, False, False, False, False, False, False, False, False]\n"
          ]
        }
      ]
    },
    {
      "cell_type": "code",
      "source": [
        "print(\"Tokens:\", [token.text for token in document])\n",
        "print(\"Formato:\", [token.shape_ for token in document])"
      ],
      "metadata": {
        "colab": {
          "base_uri": "https://localhost:8080/"
        },
        "id": "-HImJtgwZ2Hg",
        "outputId": "2cb496db-f77a-4b85-d221-7caf3c99b65f"
      },
      "execution_count": 51,
      "outputs": [
        {
          "output_type": "stream",
          "name": "stdout",
          "text": [
            "Tokens: ['As', 'ações', 'do', 'Magazine', 'Luiza', 'S.A.', ',', 'Franca', ',', 'Brasil', ',', 'acumularam', 'baixa', 'de', '70', '%', 'ao', 'ano', '.', 'Assim', 'já', 'devolveram', 'todos', 'os', 'ganhos', 'do', 'período', 'da', 'pandemia']\n",
            "Formato: ['Xx', 'xxxx', 'xx', 'Xxxxx', 'Xxxxx', 'X.X.', ',', 'Xxxxx', ',', 'Xxxxx', ',', 'xxxx', 'xxxx', 'xx', 'dd', '%', 'xx', 'xxx', '.', 'Xxxxx', 'xx', 'xxxx', 'xxxx', 'xx', 'xxxx', 'xx', 'xxxx', 'xx', 'xxxx']\n"
          ]
        }
      ]
    },
    {
      "cell_type": "code",
      "source": [
        "for token in document:\n",
        "  if token.like_num:\n",
        "    print(\"Número encontrado: \", token.text)\n",
        "  if token.is_punct:\n",
        "    print(\"Pontuação encontrada: \", token.text)"
      ],
      "metadata": {
        "colab": {
          "base_uri": "https://localhost:8080/"
        },
        "id": "4sooiw5Rcwdy",
        "outputId": "aecdb521-63bb-4cc1-aa6c-f04ea332b639"
      },
      "execution_count": 52,
      "outputs": [
        {
          "output_type": "stream",
          "name": "stdout",
          "text": [
            "Pontuação encontrada:  ,\n",
            "Pontuação encontrada:  ,\n",
            "Pontuação encontrada:  ,\n",
            "Número encontrado:  70\n",
            "Pontuação encontrada:  %\n",
            "Pontuação encontrada:  .\n"
          ]
        }
      ]
    },
    {
      "cell_type": "code",
      "source": [
        "for token in document:\n",
        "  print(token.text, \":\", token.pos_, \" - \", token.dep_, \" - \", token.lemma_, \" - \", token.shape_)\n",
        "# sem o underline, o que é mostrado é a referência para o tipo"
      ],
      "metadata": {
        "colab": {
          "base_uri": "https://localhost:8080/"
        },
        "id": "rKKmnLWmzkMd",
        "outputId": "a7cf4408-217e-45b2-b877-a1255818b589"
      },
      "execution_count": 58,
      "outputs": [
        {
          "output_type": "stream",
          "name": "stdout",
          "text": [
            "As : DET  -  det  -  o  -  Xx\n",
            "ações : NOUN  -  nsubj  -  ação  -  xxxx\n",
            "do : ADP  -  case  -  de o  -  xx\n",
            "Magazine : PROPN  -  nmod  -  Magazine  -  Xxxxx\n",
            "Luiza : PROPN  -  appos  -  Luiza  -  Xxxxx\n",
            "S.A. : PROPN  -  flat:name  -  S.A.  -  X.X.\n",
            ", : PUNCT  -  punct  -  ,  -  ,\n",
            "Franca : PROPN  -  conj  -  Franca  -  Xxxxx\n",
            ", : PUNCT  -  punct  -  ,  -  ,\n",
            "Brasil : PROPN  -  conj  -  Brasil  -  Xxxxx\n",
            ", : PUNCT  -  punct  -  ,  -  ,\n",
            "acumularam : VERB  -  ROOT  -  acumular  -  xxxx\n",
            "baixa : NOUN  -  obj  -  baixa  -  xxxx\n",
            "de : ADP  -  case  -  de  -  xx\n",
            "70 : NUM  -  nummod  -  70  -  dd\n",
            "% : SYM  -  nmod  -  %  -  %\n",
            "ao : ADP  -  case  -  a o  -  xx\n",
            "ano : NOUN  -  nmod  -  ano  -  xxx\n",
            ". : PUNCT  -  punct  -  .  -  .\n",
            "Assim : ADV  -  advmod  -  assim  -  Xxxxx\n",
            "já : ADV  -  advmod  -  já  -  xx\n",
            "devolveram : VERB  -  ROOT  -  devolver  -  xxxx\n",
            "todos : DET  -  det  -  todo  -  xxxx\n",
            "os : DET  -  det  -  o  -  xx\n",
            "ganhos : NOUN  -  obj  -  ganho  -  xxxx\n",
            "do : ADP  -  case  -  de o  -  xx\n",
            "período : NOUN  -  nmod  -  período  -  xxxx\n",
            "da : ADP  -  case  -  de o  -  xx\n",
            "pandemia : NOUN  -  nmod  -  pandemia  -  xxxx\n"
          ]
        }
      ]
    },
    {
      "cell_type": "code",
      "source": [
        "# morfologia da palavra\n",
        "for token in document:\n",
        "  print(token.text, \" - \", token.morph)"
      ],
      "metadata": {
        "colab": {
          "base_uri": "https://localhost:8080/"
        },
        "id": "zAoCPP6c1Nrc",
        "outputId": "1f1d89f4-e4d7-4719-c8f9-62922874754d"
      },
      "execution_count": 59,
      "outputs": [
        {
          "output_type": "stream",
          "name": "stdout",
          "text": [
            "As  -  Definite=Def|Gender=Fem|Number=Plur|PronType=Art\n",
            "ações  -  Gender=Fem|Number=Plur\n",
            "do  -  Definite=Def|Gender=Masc|Number=Sing|PronType=Art\n",
            "Magazine  -  Gender=Fem|Number=Sing\n",
            "Luiza  -  Gender=Fem|Number=Sing\n",
            "S.A.  -  Number=Sing\n",
            ",  -  \n",
            "Franca  -  Gender=Fem|Number=Sing\n",
            ",  -  \n",
            "Brasil  -  Gender=Masc|Number=Sing\n",
            ",  -  \n",
            "acumularam  -  Mood=Ind|Number=Plur|Person=3|Tense=Past|VerbForm=Fin\n",
            "baixa  -  Gender=Fem|Number=Sing\n",
            "de  -  \n",
            "70  -  NumType=Card\n",
            "%  -  \n",
            "ao  -  Definite=Def|Gender=Masc|Number=Sing|PronType=Art\n",
            "ano  -  Gender=Masc|Number=Sing\n",
            ".  -  \n",
            "Assim  -  \n",
            "já  -  \n",
            "devolveram  -  Mood=Ind|Number=Plur|Person=3|Tense=Past|VerbForm=Fin\n",
            "todos  -  Gender=Masc|Number=Plur|PronType=Tot\n",
            "os  -  Definite=Def|Gender=Masc|Number=Plur|PronType=Art\n",
            "ganhos  -  Gender=Masc|Number=Plur\n",
            "do  -  Definite=Def|Gender=Masc|Number=Sing|PronType=Art\n",
            "período  -  Gender=Masc|Number=Sing\n",
            "da  -  Definite=Def|Gender=Fem|Number=Sing|PronType=Art\n",
            "pandemia  -  Gender=Fem|Number=Sing\n"
          ]
        }
      ]
    },
    {
      "cell_type": "code",
      "source": [
        "for token in document:\n",
        "  print(token.text, \" - \", token.tag_, \" - \", token.pos_)"
      ],
      "metadata": {
        "colab": {
          "base_uri": "https://localhost:8080/"
        },
        "id": "OwJ-ZZnL2QKn",
        "outputId": "40264f60-3a85-44d1-af89-6670492a35fc"
      },
      "execution_count": 62,
      "outputs": [
        {
          "output_type": "stream",
          "name": "stdout",
          "text": [
            "As  -  DET  -  DET\n",
            "ações  -  NOUN  -  NOUN\n",
            "do  -  ADP  -  ADP\n",
            "Magazine  -  PROPN  -  PROPN\n",
            "Luiza  -  PROPN  -  PROPN\n",
            "S.A.  -  PROPN  -  PROPN\n",
            ",  -  PUNCT  -  PUNCT\n",
            "Franca  -  PROPN  -  PROPN\n",
            ",  -  PUNCT  -  PUNCT\n",
            "Brasil  -  PROPN  -  PROPN\n",
            ",  -  PUNCT  -  PUNCT\n",
            "acumularam  -  VERB  -  VERB\n",
            "baixa  -  NOUN  -  NOUN\n",
            "de  -  ADP  -  ADP\n",
            "70  -  NUM  -  NUM\n",
            "%  -  SYM  -  SYM\n",
            "ao  -  ADP  -  ADP\n",
            "ano  -  NOUN  -  NOUN\n",
            ".  -  PUNCT  -  PUNCT\n",
            "Assim  -  ADV  -  ADV\n",
            "já  -  ADV  -  ADV\n",
            "devolveram  -  VERB  -  VERB\n",
            "todos  -  DET  -  DET\n",
            "os  -  DET  -  DET\n",
            "ganhos  -  NOUN  -  NOUN\n",
            "do  -  ADP  -  ADP\n",
            "período  -  NOUN  -  NOUN\n",
            "da  -  ADP  -  ADP\n",
            "pandemia  -  NOUN  -  NOUN\n"
          ]
        }
      ]
    },
    {
      "cell_type": "code",
      "source": [
        "# entidades nomeadas: 'ner'\n",
        "for ent in document.ents:\n",
        "  print(ent.text, \" - \", ent.label_)"
      ],
      "metadata": {
        "colab": {
          "base_uri": "https://localhost:8080/"
        },
        "id": "5lrwjCzG2jAo",
        "outputId": "16ec4e0f-9c55-4809-9ddd-c4ff507fdf8b"
      },
      "execution_count": 63,
      "outputs": [
        {
          "output_type": "stream",
          "name": "stdout",
          "text": [
            "Magazine Luiza S.A.  -  ORG\n",
            "Franca  -  LOC\n",
            "Brasil  -  LOC\n"
          ]
        }
      ]
    },
    {
      "cell_type": "code",
      "source": [
        "# stop words\n",
        "for token in document:\n",
        "  if token.is_stop:\n",
        "    print(\"Stop word: \", token.text)"
      ],
      "metadata": {
        "colab": {
          "base_uri": "https://localhost:8080/"
        },
        "id": "k8cvsoJP3wMN",
        "outputId": "c1a9372b-e3d6-4822-fe13-d44ac60f7bcd"
      },
      "execution_count": 66,
      "outputs": [
        {
          "output_type": "stream",
          "name": "stdout",
          "text": [
            "Stop word:  As\n",
            "Stop word:  do\n",
            "Stop word:  de\n",
            "Stop word:  ao\n",
            "Stop word:  Assim\n",
            "Stop word:  já\n",
            "Stop word:  todos\n",
            "Stop word:  os\n",
            "Stop word:  do\n",
            "Stop word:  da\n"
          ]
        }
      ]
    },
    {
      "cell_type": "code",
      "source": [
        "# listar stop words\n",
        "for words in nlp.Defaults.stop_words:\n",
        "  print(words)"
      ],
      "metadata": {
        "id": "_Ao1P6224QKx"
      },
      "execution_count": null,
      "outputs": []
    },
    {
      "cell_type": "code",
      "source": [
        "# adicionar uma palavra como stop word\n",
        "nlp.Defaults.stop_words.add(\"eita\") # adiiona no banco de dado\n",
        "nlp.vocab['eita'].is_stop = True # seta como stop word"
      ],
      "metadata": {
        "id": "2O_utNO04wmt"
      },
      "execution_count": 70,
      "outputs": []
    },
    {
      "cell_type": "code",
      "source": [
        "nlp.vocab['eita'].is_stop"
      ],
      "metadata": {
        "colab": {
          "base_uri": "https://localhost:8080/"
        },
        "id": "ZTbaZOkt5IAe",
        "outputId": "681f64cb-c5f9-41b3-faa6-924836e05826"
      },
      "execution_count": 72,
      "outputs": [
        {
          "output_type": "execute_result",
          "data": {
            "text/plain": [
              "True"
            ]
          },
          "metadata": {},
          "execution_count": 72
        }
      ]
    },
    {
      "cell_type": "markdown",
      "source": [
        "### Remover as stop words do documento"
      ],
      "metadata": {
        "id": "qI1hPB9C5YQC"
      }
    },
    {
      "cell_type": "code",
      "source": [
        "# cria uma lista com os tokens\n",
        "\n",
        "token_list = []\n",
        "for token in document:\n",
        "  token_list.append(token.text)"
      ],
      "metadata": {
        "id": "mLIPHvqB5PPK"
      },
      "execution_count": 73,
      "outputs": []
    },
    {
      "cell_type": "code",
      "source": [
        "# coloca todas as stop words em uma list\n",
        "\n",
        "stop_words_list = []\n",
        "for word in nlp.Defaults.stop_words:\n",
        "  stop_words_list.append(word)"
      ],
      "metadata": {
        "id": "vj6iKxKK5pSr"
      },
      "execution_count": 74,
      "outputs": []
    },
    {
      "cell_type": "code",
      "source": [
        "# adiciona uma terceira lista apenas com os tokens que não forem stop word\n",
        "\n",
        "nostop = [word for word in token_list if not word in stop_words_list]\n",
        "\n",
        "print(document.text)\n",
        "print(nostop)"
      ],
      "metadata": {
        "colab": {
          "base_uri": "https://localhost:8080/"
        },
        "id": "sEld9CwV58Ps",
        "outputId": "bd541f57-d866-4556-ee74-16c7638c0790"
      },
      "execution_count": 76,
      "outputs": [
        {
          "output_type": "stream",
          "name": "stdout",
          "text": [
            "As ações do Magazine Luiza S.A., Franca, Brasil, acumularam baixa de 70% ao ano. Assim já devolveram todos os ganhos do período da pandemia\n",
            "['As', 'ações', 'Magazine', 'Luiza', 'S.A.', ',', 'Franca', ',', 'Brasil', ',', 'acumularam', 'baixa', '70', '%', 'ano', '.', 'Assim', 'devolveram', 'ganhos', 'período', 'pandemia']\n"
          ]
        }
      ]
    },
    {
      "cell_type": "code",
      "source": [
        "# outro modo\n",
        "\n",
        "nostop2 = [token for token in document if not token.is_stop]\n",
        "\n",
        "print(nostop)\n",
        "print(nostop2)"
      ],
      "metadata": {
        "colab": {
          "base_uri": "https://localhost:8080/"
        },
        "id": "HQGsnJa16pO2",
        "outputId": "2580a623-192a-45a3-a8a3-083bd4f68bf7"
      },
      "execution_count": 78,
      "outputs": [
        {
          "output_type": "stream",
          "name": "stdout",
          "text": [
            "['As', 'ações', 'Magazine', 'Luiza', 'S.A.', ',', 'Franca', ',', 'Brasil', ',', 'acumularam', 'baixa', '70', '%', 'ano', '.', 'Assim', 'devolveram', 'ganhos', 'período', 'pandemia']\n",
            "[ações, Magazine, Luiza, S.A., ,, Franca, ,, Brasil, ,, acumularam, baixa, 70, %, ano, ., devolveram, ganhos, período, pandemia]\n"
          ]
        }
      ]
    }
  ]
}