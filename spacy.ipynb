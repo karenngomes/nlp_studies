{
  "nbformat": 4,
  "nbformat_minor": 0,
  "metadata": {
    "colab": {
      "provenance": [],
      "authorship_tag": "ABX9TyN7ZAadekYlt9ntCtTwMgj/",
      "include_colab_link": true
    },
    "kernelspec": {
      "name": "python3",
      "display_name": "Python 3"
    },
    "language_info": {
      "name": "python"
    }
  },
  "cells": [
    {
      "cell_type": "markdown",
      "metadata": {
        "id": "view-in-github",
        "colab_type": "text"
      },
      "source": [
        "<a href=\"https://colab.research.google.com/github/karenngomes/nlp_studies/blob/main/spacy.ipynb\" target=\"_parent\"><img src=\"https://colab.research.google.com/assets/colab-badge.svg\" alt=\"Open In Colab\"/></a>"
      ]
    },
    {
      "cell_type": "code",
      "execution_count": null,
      "metadata": {
        "id": "z2VHnLVWSiTi"
      },
      "outputs": [],
      "source": [
        "# instalar uma versão mais atualizada do spacy\n",
        "\n",
        "!pip install -U spacy==3.7.2"
      ]
    },
    {
      "cell_type": "code",
      "source": [
        "# ver a versão\n",
        "!pip show spacy"
      ],
      "metadata": {
        "colab": {
          "base_uri": "https://localhost:8080/"
        },
        "id": "NZpTLaJLUQQn",
        "outputId": "cd8f87b9-0b66-4ba3-fa18-ca5eac5d0615"
      },
      "execution_count": 3,
      "outputs": [
        {
          "output_type": "stream",
          "name": "stdout",
          "text": [
            "Name: spacy\n",
            "Version: 3.7.2\n",
            "Summary: Industrial-strength Natural Language Processing (NLP) in Python\n",
            "Home-page: https://spacy.io\n",
            "Author: Explosion\n",
            "Author-email: contact@explosion.ai\n",
            "License: MIT\n",
            "Location: /usr/local/lib/python3.10/dist-packages\n",
            "Requires: catalogue, cymem, jinja2, langcodes, murmurhash, numpy, packaging, preshed, pydantic, requests, setuptools, smart-open, spacy-legacy, spacy-loggers, srsly, thinc, tqdm, typer, wasabi, weasel\n",
            "Required-by: en-core-web-sm, fastai\n"
          ]
        }
      ]
    },
    {
      "cell_type": "code",
      "source": [
        "# baixar um modelo pre-treinado. Tem 3 em cada idioma (inclusive em pt): pequeno (_sm), médio (_md) e grande (_lg)\n",
        "!python -m spacy download 'pt_core_news_lg'"
      ],
      "metadata": {
        "id": "8fbeERZDTNxF"
      },
      "execution_count": null,
      "outputs": []
    },
    {
      "cell_type": "code",
      "source": [
        "import spacy"
      ],
      "metadata": {
        "id": "no4MivcjUnco"
      },
      "execution_count": 5,
      "outputs": []
    },
    {
      "cell_type": "code",
      "source": [
        "nlp = spacy.load('pt_core_news_lg')"
      ],
      "metadata": {
        "id": "LhKvzo9JU1Af"
      },
      "execution_count": 6,
      "outputs": []
    },
    {
      "cell_type": "code",
      "source": [
        "print(type(nlp))"
      ],
      "metadata": {
        "colab": {
          "base_uri": "https://localhost:8080/"
        },
        "id": "VNyLLNaGVADT",
        "outputId": "1ba813f4-4f3e-4bdd-a3e6-a07e7e7fb943"
      },
      "execution_count": 7,
      "outputs": [
        {
          "output_type": "stream",
          "name": "stdout",
          "text": [
            "<class 'spacy.lang.pt.Portuguese'>\n"
          ]
        }
      ]
    },
    {
      "cell_type": "code",
      "source": [
        "print(nlp.pipe_names)"
      ],
      "metadata": {
        "colab": {
          "base_uri": "https://localhost:8080/"
        },
        "id": "pW4dpFK7VFsS",
        "outputId": "f3d7cec3-b7e5-4895-cfad-10feb4d9594f"
      },
      "execution_count": 8,
      "outputs": [
        {
          "output_type": "stream",
          "name": "stdout",
          "text": [
            "['tok2vec', 'morphologizer', 'parser', 'lemmatizer', 'attribute_ruler', 'ner']\n"
          ]
        }
      ]
    },
    {
      "cell_type": "code",
      "source": [
        "document = nlp(\"As ações do Magazine Luiza S.A., Franca, Brasil, acumularam baixa de 70% ao ano. Assim já devolveram todos os ganhos do período da pandemia\")"
      ],
      "metadata": {
        "id": "lme9TxYTVz4g"
      },
      "execution_count": 9,
      "outputs": []
    },
    {
      "cell_type": "markdown",
      "source": [
        "Se fosse carregar texto de um arquivo:\n",
        "\n",
        "\n",
        "```\n",
        "with open(\"documento.txt\", \"r\", encoding=\"utf-8\") as file:\n",
        "    texto = file.read()\n",
        "\n",
        "doc = nlp(texto)\n",
        "```\n",
        "\n"
      ],
      "metadata": {
        "id": "6x-3UHXGWTY7"
      }
    },
    {
      "cell_type": "code",
      "source": [
        "len(document.vocab)"
      ],
      "metadata": {
        "colab": {
          "base_uri": "https://localhost:8080/"
        },
        "id": "FZO6aboZWbB_",
        "outputId": "0c1a99b6-c079-44b7-9022-08371b7c3a50"
      },
      "execution_count": 10,
      "outputs": [
        {
          "output_type": "execute_result",
          "data": {
            "text/plain": [
              "375"
            ]
          },
          "metadata": {},
          "execution_count": 10
        }
      ]
    },
    {
      "cell_type": "code",
      "source": [
        "print(type(document))"
      ],
      "metadata": {
        "colab": {
          "base_uri": "https://localhost:8080/"
        },
        "id": "c7fF3NYcWj5y",
        "outputId": "a6c9321f-e9ba-4400-9969-8129c5180ca3"
      },
      "execution_count": 11,
      "outputs": [
        {
          "output_type": "stream",
          "name": "stdout",
          "text": [
            "<class 'spacy.tokens.doc.Doc'>\n"
          ]
        }
      ]
    },
    {
      "cell_type": "code",
      "source": [
        "for token in document:\n",
        "  print(token.text)"
      ],
      "metadata": {
        "colab": {
          "base_uri": "https://localhost:8080/"
        },
        "id": "m_om4lBkXHNM",
        "outputId": "19abf44f-af05-499d-93e9-2fd74001b740"
      },
      "execution_count": 12,
      "outputs": [
        {
          "output_type": "stream",
          "name": "stdout",
          "text": [
            "As\n",
            "ações\n",
            "do\n",
            "Magazine\n",
            "Luiza\n",
            "S.A.\n",
            ",\n",
            "Franca\n",
            ",\n",
            "Brasil\n",
            ",\n",
            "acumularam\n",
            "baixa\n",
            "de\n",
            "70\n",
            "%\n",
            "ao\n",
            "ano\n",
            ".\n",
            "Assim\n",
            "já\n",
            "devolveram\n",
            "todos\n",
            "os\n",
            "ganhos\n",
            "do\n",
            "período\n",
            "da\n",
            "pandemia\n"
          ]
        }
      ]
    },
    {
      "cell_type": "code",
      "source": [
        "document2 = nlp(\"Alegações extraordinárias requerem evidências extraordinárias. Carl Sagan: 'http://carlsagan.com'\")"
      ],
      "metadata": {
        "id": "yHuz0E1DYQYh"
      },
      "execution_count": 13,
      "outputs": []
    },
    {
      "cell_type": "code",
      "source": [
        "for token in document2:\n",
        "  print(token.text)"
      ],
      "metadata": {
        "colab": {
          "base_uri": "https://localhost:8080/"
        },
        "id": "xPHh7k3pYh-Q",
        "outputId": "a1cdff05-aafe-4915-b502-268720007405"
      },
      "execution_count": 14,
      "outputs": [
        {
          "output_type": "stream",
          "name": "stdout",
          "text": [
            "Alegações\n",
            "extraordinárias\n",
            "requerem\n",
            "evidências\n",
            "extraordinárias\n",
            ".\n",
            "Carl\n",
            "Sagan\n",
            ":\n",
            "'\n",
            "http://carlsagan.com\n",
            "'\n"
          ]
        }
      ]
    },
    {
      "cell_type": "code",
      "source": [
        "print(document[3])"
      ],
      "metadata": {
        "colab": {
          "base_uri": "https://localhost:8080/"
        },
        "id": "pUpNGcxMYsJF",
        "outputId": "61cb5c63-398f-40ee-d51b-bad5c3d95b02"
      },
      "execution_count": 15,
      "outputs": [
        {
          "output_type": "stream",
          "name": "stdout",
          "text": [
            "Magazine\n"
          ]
        }
      ]
    },
    {
      "cell_type": "code",
      "source": [
        "print(document[3:5])"
      ],
      "metadata": {
        "colab": {
          "base_uri": "https://localhost:8080/"
        },
        "id": "GtZ6AhbzY23j",
        "outputId": "0858e07c-80a5-41c3-fe56-89dc8b46c90f"
      },
      "execution_count": 16,
      "outputs": [
        {
          "output_type": "stream",
          "name": "stdout",
          "text": [
            "Magazine Luiza\n"
          ]
        }
      ]
    },
    {
      "cell_type": "code",
      "source": [
        "print(len(document))"
      ],
      "metadata": {
        "colab": {
          "base_uri": "https://localhost:8080/"
        },
        "id": "9VwghpQ5Za75",
        "outputId": "f60ec02c-e936-4203-9eb3-8b1d1856a3f2"
      },
      "execution_count": 17,
      "outputs": [
        {
          "output_type": "stream",
          "name": "stdout",
          "text": [
            "29\n"
          ]
        }
      ]
    },
    {
      "cell_type": "code",
      "source": [
        "print(\"Tokens:\", [token.text for token in document])\n",
        "print(\"Stop word:\", [token.is_stop for token in document])\n",
        "print(\"Alfanumerico:\", [token.is_alpha for token in document])\n",
        "print(\"Maiúsculo:\", [token.is_upper for token in document])\n",
        "print(\"Pontuação:\", [token.is_punct for token in document])\n",
        "print(\"Número:\", [token.like_num for token in document])\n",
        "print(\"Senteça Inicial:\", [token.is_sent_start for token in document])"
      ],
      "metadata": {
        "colab": {
          "base_uri": "https://localhost:8080/"
        },
        "id": "WdrA_RLYZqyD",
        "outputId": "170c77c6-0792-4e3f-8cba-942fc37a8eca"
      },
      "execution_count": 18,
      "outputs": [
        {
          "output_type": "stream",
          "name": "stdout",
          "text": [
            "Tokens: ['As', 'ações', 'do', 'Magazine', 'Luiza', 'S.A.', ',', 'Franca', ',', 'Brasil', ',', 'acumularam', 'baixa', 'de', '70', '%', 'ao', 'ano', '.', 'Assim', 'já', 'devolveram', 'todos', 'os', 'ganhos', 'do', 'período', 'da', 'pandemia']\n",
            "Stop word: [True, False, True, False, False, False, False, False, False, False, False, False, False, True, False, False, True, False, False, True, True, False, True, True, False, True, False, True, False]\n",
            "Alfanumerico: [True, True, True, True, True, False, False, True, False, True, False, True, True, True, False, False, True, True, False, True, True, True, True, True, True, True, True, True, True]\n",
            "Maiúsculo: [False, False, False, False, False, True, False, False, False, False, False, False, False, False, False, False, False, False, False, False, False, False, False, False, False, False, False, False, False]\n",
            "Pontuação: [False, False, False, False, False, False, True, False, True, False, True, False, False, False, False, True, False, False, True, False, False, False, False, False, False, False, False, False, False]\n",
            "Número: [False, False, False, False, False, False, False, False, False, False, False, False, False, False, True, False, False, False, False, False, False, False, False, False, False, False, False, False, False]\n",
            "Senteça Inicial: [True, False, False, False, False, False, False, False, False, False, False, False, False, False, False, False, False, False, False, True, False, False, False, False, False, False, False, False, False]\n"
          ]
        }
      ]
    },
    {
      "cell_type": "code",
      "source": [
        "print(\"Tokens:\", [token.text for token in document])\n",
        "print(\"Formato:\", [token.shape_ for token in document])"
      ],
      "metadata": {
        "colab": {
          "base_uri": "https://localhost:8080/"
        },
        "id": "-HImJtgwZ2Hg",
        "outputId": "6afbb6d9-6c5d-4eb9-8abb-b6d45edc4684"
      },
      "execution_count": 19,
      "outputs": [
        {
          "output_type": "stream",
          "name": "stdout",
          "text": [
            "Tokens: ['As', 'ações', 'do', 'Magazine', 'Luiza', 'S.A.', ',', 'Franca', ',', 'Brasil', ',', 'acumularam', 'baixa', 'de', '70', '%', 'ao', 'ano', '.', 'Assim', 'já', 'devolveram', 'todos', 'os', 'ganhos', 'do', 'período', 'da', 'pandemia']\n",
            "Formato: ['Xx', 'xxxx', 'xx', 'Xxxxx', 'Xxxxx', 'X.X.', ',', 'Xxxxx', ',', 'Xxxxx', ',', 'xxxx', 'xxxx', 'xx', 'dd', '%', 'xx', 'xxx', '.', 'Xxxxx', 'xx', 'xxxx', 'xxxx', 'xx', 'xxxx', 'xx', 'xxxx', 'xx', 'xxxx']\n"
          ]
        }
      ]
    },
    {
      "cell_type": "code",
      "source": [
        "for token in document:\n",
        "  if token.like_num:\n",
        "    print(\"Número encontrado: \", token.text)\n",
        "  if token.is_punct:\n",
        "    print(\"Pontuação encontrada: \", token.text)"
      ],
      "metadata": {
        "colab": {
          "base_uri": "https://localhost:8080/"
        },
        "id": "4sooiw5Rcwdy",
        "outputId": "bf953bad-d6e0-451e-ec5f-82cf4083b813"
      },
      "execution_count": 20,
      "outputs": [
        {
          "output_type": "stream",
          "name": "stdout",
          "text": [
            "Pontuação encontrada:  ,\n",
            "Pontuação encontrada:  ,\n",
            "Pontuação encontrada:  ,\n",
            "Número encontrado:  70\n",
            "Pontuação encontrada:  %\n",
            "Pontuação encontrada:  .\n"
          ]
        }
      ]
    },
    {
      "cell_type": "code",
      "source": [
        "for token in document:\n",
        "  print(token.text, \":\", token.pos_, \" - \", token.dep_, \" - \", token.lemma_, \" - \", token.shape_)\n",
        "# sem o underline, o que é mostrado é a referência para o tipo"
      ],
      "metadata": {
        "colab": {
          "base_uri": "https://localhost:8080/"
        },
        "id": "rKKmnLWmzkMd",
        "outputId": "08620b09-5ec0-49cb-fd19-eba2e3acf0f2"
      },
      "execution_count": 21,
      "outputs": [
        {
          "output_type": "stream",
          "name": "stdout",
          "text": [
            "As : DET  -  det  -  o  -  Xx\n",
            "ações : NOUN  -  nsubj  -  ação  -  xxxx\n",
            "do : ADP  -  case  -  de o  -  xx\n",
            "Magazine : PROPN  -  nmod  -  Magazine  -  Xxxxx\n",
            "Luiza : PROPN  -  appos  -  Luiza  -  Xxxxx\n",
            "S.A. : PROPN  -  flat:name  -  S.A.  -  X.X.\n",
            ", : PUNCT  -  punct  -  ,  -  ,\n",
            "Franca : PROPN  -  conj  -  Franca  -  Xxxxx\n",
            ", : PUNCT  -  punct  -  ,  -  ,\n",
            "Brasil : PROPN  -  conj  -  Brasil  -  Xxxxx\n",
            ", : PUNCT  -  punct  -  ,  -  ,\n",
            "acumularam : VERB  -  ROOT  -  acumular  -  xxxx\n",
            "baixa : NOUN  -  obj  -  baixa  -  xxxx\n",
            "de : ADP  -  case  -  de  -  xx\n",
            "70 : NUM  -  nummod  -  70  -  dd\n",
            "% : SYM  -  nmod  -  %  -  %\n",
            "ao : ADP  -  case  -  a o  -  xx\n",
            "ano : NOUN  -  nmod  -  ano  -  xxx\n",
            ". : PUNCT  -  punct  -  .  -  .\n",
            "Assim : ADV  -  advmod  -  assim  -  Xxxxx\n",
            "já : ADV  -  advmod  -  já  -  xx\n",
            "devolveram : VERB  -  ROOT  -  devolver  -  xxxx\n",
            "todos : DET  -  det  -  todo  -  xxxx\n",
            "os : DET  -  det  -  o  -  xx\n",
            "ganhos : NOUN  -  obj  -  ganho  -  xxxx\n",
            "do : ADP  -  case  -  de o  -  xx\n",
            "período : NOUN  -  nmod  -  período  -  xxxx\n",
            "da : ADP  -  case  -  de o  -  xx\n",
            "pandemia : NOUN  -  nmod  -  pandemia  -  xxxx\n"
          ]
        }
      ]
    },
    {
      "cell_type": "code",
      "source": [
        "# morfologia da palavra\n",
        "for token in document:\n",
        "  print(token.text, \" - \", token.morph)"
      ],
      "metadata": {
        "colab": {
          "base_uri": "https://localhost:8080/"
        },
        "id": "zAoCPP6c1Nrc",
        "outputId": "4a8e1510-172c-4734-f585-7e1d7940b657"
      },
      "execution_count": 22,
      "outputs": [
        {
          "output_type": "stream",
          "name": "stdout",
          "text": [
            "As  -  Definite=Def|Gender=Fem|Number=Plur|PronType=Art\n",
            "ações  -  Gender=Fem|Number=Plur\n",
            "do  -  Definite=Def|Gender=Masc|Number=Sing|PronType=Art\n",
            "Magazine  -  Gender=Fem|Number=Sing\n",
            "Luiza  -  Gender=Fem|Number=Sing\n",
            "S.A.  -  Number=Sing\n",
            ",  -  \n",
            "Franca  -  Gender=Fem|Number=Sing\n",
            ",  -  \n",
            "Brasil  -  Gender=Masc|Number=Sing\n",
            ",  -  \n",
            "acumularam  -  Mood=Ind|Number=Plur|Person=3|Tense=Past|VerbForm=Fin\n",
            "baixa  -  Gender=Fem|Number=Sing\n",
            "de  -  \n",
            "70  -  NumType=Card\n",
            "%  -  \n",
            "ao  -  Definite=Def|Gender=Masc|Number=Sing|PronType=Art\n",
            "ano  -  Gender=Masc|Number=Sing\n",
            ".  -  \n",
            "Assim  -  \n",
            "já  -  \n",
            "devolveram  -  Mood=Ind|Number=Plur|Person=3|Tense=Past|VerbForm=Fin\n",
            "todos  -  Gender=Masc|Number=Plur|PronType=Tot\n",
            "os  -  Definite=Def|Gender=Masc|Number=Plur|PronType=Art\n",
            "ganhos  -  Gender=Masc|Number=Plur\n",
            "do  -  Definite=Def|Gender=Masc|Number=Sing|PronType=Art\n",
            "período  -  Gender=Masc|Number=Sing\n",
            "da  -  Definite=Def|Gender=Fem|Number=Sing|PronType=Art\n",
            "pandemia  -  Gender=Fem|Number=Sing\n"
          ]
        }
      ]
    },
    {
      "cell_type": "code",
      "source": [
        "for token in document:\n",
        "  print(token.text, \" - \", token.tag_, \" - \", token.pos_)"
      ],
      "metadata": {
        "colab": {
          "base_uri": "https://localhost:8080/"
        },
        "id": "OwJ-ZZnL2QKn",
        "outputId": "80ddb188-f752-4b6c-f595-b23a19ed0a4d"
      },
      "execution_count": 23,
      "outputs": [
        {
          "output_type": "stream",
          "name": "stdout",
          "text": [
            "As  -  DET  -  DET\n",
            "ações  -  NOUN  -  NOUN\n",
            "do  -  ADP  -  ADP\n",
            "Magazine  -  PROPN  -  PROPN\n",
            "Luiza  -  PROPN  -  PROPN\n",
            "S.A.  -  PROPN  -  PROPN\n",
            ",  -  PUNCT  -  PUNCT\n",
            "Franca  -  PROPN  -  PROPN\n",
            ",  -  PUNCT  -  PUNCT\n",
            "Brasil  -  PROPN  -  PROPN\n",
            ",  -  PUNCT  -  PUNCT\n",
            "acumularam  -  VERB  -  VERB\n",
            "baixa  -  NOUN  -  NOUN\n",
            "de  -  ADP  -  ADP\n",
            "70  -  NUM  -  NUM\n",
            "%  -  SYM  -  SYM\n",
            "ao  -  ADP  -  ADP\n",
            "ano  -  NOUN  -  NOUN\n",
            ".  -  PUNCT  -  PUNCT\n",
            "Assim  -  ADV  -  ADV\n",
            "já  -  ADV  -  ADV\n",
            "devolveram  -  VERB  -  VERB\n",
            "todos  -  DET  -  DET\n",
            "os  -  DET  -  DET\n",
            "ganhos  -  NOUN  -  NOUN\n",
            "do  -  ADP  -  ADP\n",
            "período  -  NOUN  -  NOUN\n",
            "da  -  ADP  -  ADP\n",
            "pandemia  -  NOUN  -  NOUN\n"
          ]
        }
      ]
    },
    {
      "cell_type": "code",
      "source": [
        "# entidades nomeadas: 'ner'\n",
        "for ent in document.ents:\n",
        "  print(ent.text, \" - \", ent.label_)"
      ],
      "metadata": {
        "colab": {
          "base_uri": "https://localhost:8080/"
        },
        "id": "5lrwjCzG2jAo",
        "outputId": "8c7d85ac-60ca-465b-8586-a4d05a4919cb"
      },
      "execution_count": 24,
      "outputs": [
        {
          "output_type": "stream",
          "name": "stdout",
          "text": [
            "Magazine Luiza S.A.  -  ORG\n",
            "Franca  -  LOC\n",
            "Brasil  -  LOC\n"
          ]
        }
      ]
    },
    {
      "cell_type": "code",
      "source": [
        "# stop words\n",
        "for token in document:\n",
        "  if token.is_stop:\n",
        "    print(\"Stop word: \", token.text)"
      ],
      "metadata": {
        "colab": {
          "base_uri": "https://localhost:8080/"
        },
        "id": "k8cvsoJP3wMN",
        "outputId": "4c4f8026-e797-4ac8-8316-e642357826c1"
      },
      "execution_count": 25,
      "outputs": [
        {
          "output_type": "stream",
          "name": "stdout",
          "text": [
            "Stop word:  As\n",
            "Stop word:  do\n",
            "Stop word:  de\n",
            "Stop word:  ao\n",
            "Stop word:  Assim\n",
            "Stop word:  já\n",
            "Stop word:  todos\n",
            "Stop word:  os\n",
            "Stop word:  do\n",
            "Stop word:  da\n"
          ]
        }
      ]
    },
    {
      "cell_type": "code",
      "source": [
        "# listar stop words\n",
        "for words in nlp.Defaults.stop_words:\n",
        "  print(words)"
      ],
      "metadata": {
        "colab": {
          "base_uri": "https://localhost:8080/"
        },
        "id": "_Ao1P6224QKx",
        "outputId": "995b4f4b-fa4f-442a-9968-68934e37178f"
      },
      "execution_count": 26,
      "outputs": [
        {
          "output_type": "stream",
          "name": "stdout",
          "text": [
            "maiorias\n",
            "neste\n",
            "antes\n",
            "meus\n",
            "sob\n",
            "sabe\n",
            "obrigada\n",
            "oitavo\n",
            "disso\n",
            "dizem\n",
            "vão\n",
            "fará\n",
            "meses\n",
            "sexta\n",
            "quais\n",
            "ele\n",
            "lhe\n",
            "tudo\n",
            "oitava\n",
            "corrente\n",
            "tivemos\n",
            "puderam\n",
            "contudo\n",
            "ademais\n",
            "vos\n",
            "essas\n",
            "vindo\n",
            "atrás\n",
            "me\n",
            "aí\n",
            "umas\n",
            "num\n",
            "ligado\n",
            "treze\n",
            "fazem\n",
            "estás\n",
            "mal\n",
            "lugar\n",
            "pouco\n",
            "tais\n",
            "vossa\n",
            "agora\n",
            "então\n",
            "cinco\n",
            "os\n",
            "vários\n",
            "aquele\n",
            "já\n",
            "dão\n",
            "tem\n",
            "grandes\n",
            "primeiro\n",
            "todos\n",
            "desse\n",
            "ao\n",
            "primeira\n",
            "dentro\n",
            "isso\n",
            "vens\n",
            "podia\n",
            "exemplo\n",
            "fostes\n",
            "nunca\n",
            "fomos\n",
            "tu\n",
            "des\n",
            "sem\n",
            "quarto\n",
            "minhas\n",
            "teu\n",
            "relação\n",
            "bom\n",
            "está\n",
            "após\n",
            "área\n",
            "estado\n",
            "conhecido\n",
            "quinta\n",
            "todo\n",
            "tarde\n",
            "nessa\n",
            "fim\n",
            "deste\n",
            "forma\n",
            "estão\n",
            "fora\n",
            "até\n",
            "certeza\n",
            "estiveram\n",
            "breve\n",
            "for\n",
            "nova\n",
            "números\n",
            "quieta\n",
            "geral\n",
            "caminho\n",
            "vez\n",
            "cujo\n",
            "aos\n",
            "nem\n",
            "pelos\n",
            "tão\n",
            "faz\n",
            "nesta\n",
            "certamente\n",
            "era\n",
            "estivestes\n",
            "de\n",
            "ir\n",
            "também\n",
            "esteve\n",
            "vem\n",
            "aquelas\n",
            "tens\n",
            "ser\n",
            "põem\n",
            "perto\n",
            "tive\n",
            "as\n",
            "acerca\n",
            "cima\n",
            "nosso\n",
            "aquilo\n",
            "estava\n",
            "nenhuma\n",
            "é\n",
            "porquanto\n",
            "aquela\n",
            "esse\n",
            "tente\n",
            "vós\n",
            "ambas\n",
            "dezoito\n",
            "diz\n",
            "segundo\n",
            "qualquer\n",
            "fazemos\n",
            "tendes\n",
            "quando\n",
            "bastante\n",
            "foi\n",
            "saber\n",
            "ali\n",
            "pois\n",
            "último\n",
            "tanta\n",
            "sistema\n",
            "seria\n",
            "novo\n",
            "mas\n",
            "outros\n",
            "foram\n",
            "além\n",
            "iniciar\n",
            "cuja\n",
            "naquele\n",
            "embora\n",
            "nível\n",
            "porquê\n",
            "comprida\n",
            "conhecida\n",
            "sete\n",
            "apoio\n",
            "estar\n",
            "onde\n",
            "aqueles\n",
            "dois\n",
            "parece\n",
            "oito\n",
            "quarta\n",
            "estará\n",
            "novos\n",
            "zero\n",
            "fui\n",
            "minha\n",
            "doze\n",
            "muito\n",
            "lado\n",
            "demais\n",
            "teus\n",
            "direita\n",
            "o\n",
            "grupo\n",
            "usa\n",
            "quê\n",
            "das\n",
            "nos\n",
            "diante\n",
            "debaixo\n",
            "tentaram\n",
            "cá\n",
            "tanto\n",
            "segunda\n",
            "dez\n",
            "ora\n",
            "eventual\n",
            "esses\n",
            "possivelmente\n",
            "número\n",
            "dos\n",
            "valor\n",
            "sétima\n",
            "portanto\n",
            "eu\n",
            "apoia\n",
            "terceira\n",
            "sétimo\n",
            "máximo\n",
            "seus\n",
            "dezasseis\n",
            "numa\n",
            "daquele\n",
            "possível\n",
            "e\n",
            "algumas\n",
            "elas\n",
            "outra\n",
            "ainda\n",
            "estas\n",
            "estivemos\n",
            "têm\n",
            "foste\n",
            "depois\n",
            "estou\n",
            "sois\n",
            "enquanto\n",
            "às\n",
            "nove\n",
            "teve\n",
            "próxima\n",
            "vêm\n",
            "tiveste\n",
            "deve\n",
            "menor\n",
            "baixo\n",
            "vais\n",
            "duas\n",
            "tenho\n",
            "suas\n",
            "aqui\n",
            "tua\n",
            "somente\n",
            "na\n",
            "pegar\n",
            "são\n",
            "pela\n",
            "somos\n",
            "posso\n",
            "usar\n",
            "longe\n",
            "és\n",
            "uma\n",
            "vai\n",
            "local\n",
            "entre\n",
            "partir\n",
            "dezanove\n",
            "quinze\n",
            "dezassete\n",
            "pelo\n",
            "eles\n",
            "quatro\n",
            "daquela\n",
            "quinto\n",
            "boa\n",
            "ambos\n",
            "próximo\n",
            "da\n",
            "com\n",
            "estiveste\n",
            "algo\n",
            "ponto\n",
            "talvez\n",
            "contra\n",
            "nossas\n",
            "seis\n",
            "estive\n",
            "pontos\n",
            "sexto\n",
            "fazer\n",
            "lá\n",
            "pôde\n",
            "qual\n",
            "desde\n",
            "sobre\n",
            "sou\n",
            "quer\n",
            "porém\n",
            "três\n",
            "meu\n",
            "final\n",
            "pelas\n",
            "apontar\n",
            "fazia\n",
            "povo\n",
            "quanto\n",
            "a\n",
            "tempo\n",
            "assim\n",
            "novas\n",
            "tentei\n",
            "tiveram\n",
            "pode\n",
            "pouca\n",
            "fazes\n",
            "sei\n",
            "coisa\n",
            "sua\n",
            "para\n",
            "dessa\n",
            "se\n",
            "isto\n",
            "por\n",
            "mil\n",
            "naquela\n",
            "estes\n",
            "nossos\n",
            "poderá\n",
            "parte\n",
            "sempre\n",
            "te\n",
            "tentar\n",
            "quero\n",
            "inclusive\n",
            "quieto\n",
            "que\n",
            "maior\n",
            "nada\n",
            "terceiro\n",
            "fazeis\n",
            "dar\n",
            "põe\n",
            "cedo\n",
            "bem\n",
            "em\n",
            "alguns\n",
            "nas\n",
            "outras\n",
            "este\n",
            "essa\n",
            "sim\n",
            "veja\n",
            "faço\n",
            "custa\n",
            "obrigado\n",
            "favor\n",
            "mês\n",
            "menos\n",
            "nesse\n",
            "próprio\n",
            "ela\n",
            "vezes\n",
            "poder\n",
            "vossas\n",
            "à\n",
            "logo\n",
            "uns\n",
            "meio\n",
            "nossa\n",
            "toda\n",
            "dizer\n",
            "inicio\n",
            "podem\n",
            "temos\n",
            "vossos\n",
            "devem\n",
            "quem\n",
            "querem\n",
            "tivestes\n",
            "vosso\n",
            "como\n",
            "ver\n",
            "deverá\n",
            "não\n",
            "todas\n",
            "um\n",
            "cada\n",
            "ou\n",
            "irá\n",
            "fez\n",
            "seu\n",
            "ter\n",
            "maioria\n",
            "momento\n",
            "adeus\n",
            "onze\n",
            "vinda\n",
            "porque\n",
            "você\n",
            "grande\n",
            "muitos\n",
            "no\n",
            "cento\n",
            "dá\n",
            "esta\n",
            "tuas\n",
            "mesmo\n",
            "falta\n",
            "através\n",
            "catorze\n",
            "mais\n",
            "comprido\n",
            "tipo\n",
            "nós\n",
            "ontem\n",
            "desta\n",
            "posição\n",
            "nuns\n",
            "apenas\n",
            "do\n",
            "tal\n",
            "questão\n",
            "só\n",
            "vocês\n",
            "conselho\n",
            "vinte\n"
          ]
        }
      ]
    },
    {
      "cell_type": "code",
      "source": [
        "# adicionar uma palavra como stop word\n",
        "nlp.Defaults.stop_words.add(\"eita\") # adiiona no banco de dado\n",
        "nlp.vocab['eita'].is_stop = True # seta como stop word"
      ],
      "metadata": {
        "id": "2O_utNO04wmt"
      },
      "execution_count": 27,
      "outputs": []
    },
    {
      "cell_type": "code",
      "source": [
        "nlp.vocab['eita'].is_stop"
      ],
      "metadata": {
        "colab": {
          "base_uri": "https://localhost:8080/"
        },
        "id": "ZTbaZOkt5IAe",
        "outputId": "6f6948d1-5a83-4a17-ce60-e32ea3e44ffa"
      },
      "execution_count": 28,
      "outputs": [
        {
          "output_type": "execute_result",
          "data": {
            "text/plain": [
              "True"
            ]
          },
          "metadata": {},
          "execution_count": 28
        }
      ]
    },
    {
      "cell_type": "markdown",
      "source": [
        "### Remover as stop words do documento"
      ],
      "metadata": {
        "id": "qI1hPB9C5YQC"
      }
    },
    {
      "cell_type": "code",
      "source": [
        "# cria uma lista com os tokens\n",
        "\n",
        "token_list = []\n",
        "for token in document:\n",
        "  token_list.append(token.text)"
      ],
      "metadata": {
        "id": "mLIPHvqB5PPK"
      },
      "execution_count": 29,
      "outputs": []
    },
    {
      "cell_type": "code",
      "source": [
        "# coloca todas as stop words em uma list\n",
        "\n",
        "stop_words_list = []\n",
        "for word in nlp.Defaults.stop_words:\n",
        "  stop_words_list.append(word)"
      ],
      "metadata": {
        "id": "vj6iKxKK5pSr"
      },
      "execution_count": 30,
      "outputs": []
    },
    {
      "cell_type": "code",
      "source": [
        "# adiciona uma terceira lista apenas com os tokens que não forem stop word\n",
        "\n",
        "nostop = [word for word in token_list if not word in stop_words_list]\n",
        "\n",
        "print(document.text)\n",
        "print(nostop)"
      ],
      "metadata": {
        "colab": {
          "base_uri": "https://localhost:8080/"
        },
        "id": "sEld9CwV58Ps",
        "outputId": "4c960ac5-3d68-47fc-ef0e-90ffe8b362ad"
      },
      "execution_count": 31,
      "outputs": [
        {
          "output_type": "stream",
          "name": "stdout",
          "text": [
            "As ações do Magazine Luiza S.A., Franca, Brasil, acumularam baixa de 70% ao ano. Assim já devolveram todos os ganhos do período da pandemia\n",
            "['As', 'ações', 'Magazine', 'Luiza', 'S.A.', ',', 'Franca', ',', 'Brasil', ',', 'acumularam', 'baixa', '70', '%', 'ano', '.', 'Assim', 'devolveram', 'ganhos', 'período', 'pandemia']\n"
          ]
        }
      ]
    },
    {
      "cell_type": "code",
      "source": [
        "# outro modo\n",
        "\n",
        "nostop2 = [token for token in document if not token.is_stop]\n",
        "\n",
        "print(nostop)\n",
        "print(nostop2)"
      ],
      "metadata": {
        "colab": {
          "base_uri": "https://localhost:8080/"
        },
        "id": "HQGsnJa16pO2",
        "outputId": "13bc5c1a-9a5f-4e58-d67e-c6df93bf1ee7"
      },
      "execution_count": 33,
      "outputs": [
        {
          "output_type": "stream",
          "name": "stdout",
          "text": [
            "['As', 'ações', 'Magazine', 'Luiza', 'S.A.', ',', 'Franca', ',', 'Brasil', ',', 'acumularam', 'baixa', '70', '%', 'ano', '.', 'Assim', 'devolveram', 'ganhos', 'período', 'pandemia']\n",
            "[ações, Magazine, Luiza, S.A., ,, Franca, ,, Brasil, ,, acumularam, baixa, 70, %, ano, ., devolveram, ganhos, período, pandemia]\n"
          ]
        }
      ]
    },
    {
      "cell_type": "code",
      "source": [
        "document1 = nlp(\"Ele viaja regularmente de carro\")\n",
        "document2 = nlp(\"Ela regularmente de avião viaja\")\n",
        "\n",
        "print(document1.similarity(document2))\n",
        "print(document2.similarity(document1))"
      ],
      "metadata": {
        "colab": {
          "base_uri": "https://localhost:8080/"
        },
        "id": "2QSXAPIYAH0a",
        "outputId": "8307c2e8-d4b0-4bd6-f652-d04ee145b80c"
      },
      "execution_count": 37,
      "outputs": [
        {
          "output_type": "stream",
          "name": "stdout",
          "text": [
            "0.8941741168014388\n",
            "0.8941741168014388\n"
          ]
        }
      ]
    },
    {
      "cell_type": "code",
      "source": [
        "document3 = nlp(\"Devemos dizer comprimento ou cumprimento?\")\n",
        "tokenA = document3[2]\n",
        "print(tokenA)\n",
        "tokenB = document3[4]\n",
        "print(tokenB)\n",
        "\n",
        "print(tokenA.similarity(tokenB))\n"
      ],
      "metadata": {
        "colab": {
          "base_uri": "https://localhost:8080/"
        },
        "id": "sAAYzIllCNcM",
        "outputId": "609d21cf-223f-4cd2-c56e-9205f11e9b02"
      },
      "execution_count": 39,
      "outputs": [
        {
          "output_type": "stream",
          "name": "stdout",
          "text": [
            "comprimento\n",
            "cumprimento\n",
            "0.5804340243339539\n"
          ]
        }
      ]
    },
    {
      "cell_type": "code",
      "source": [
        "# comparando dois span (duas partes menores do documento)\n",
        "document4 = nlp(\"Ele pede descrição. Ele pede discrição\")\n",
        "partA = document4[0:3]\n",
        "print(partA)\n",
        "\n",
        "partB = document4[4:7]\n",
        "print(partB)\n",
        "\n",
        "print(partA.similarity(partB))"
      ],
      "metadata": {
        "colab": {
          "base_uri": "https://localhost:8080/"
        },
        "id": "uJUi8Zp6C7cs",
        "outputId": "b74818ff-634b-46d9-f4e9-91c21fa3a74e"
      },
      "execution_count": 42,
      "outputs": [
        {
          "output_type": "stream",
          "name": "stdout",
          "text": [
            "Ele pede descrição\n",
            "Ele pede discrição\n",
            "0.9630053639411926\n"
          ]
        }
      ]
    },
    {
      "cell_type": "code",
      "source": [
        "from spacy.matcher import Matcher\n",
        "\n",
        "document5 = nlp(\"Você pode ligar para (51) - 9964656570 ou (11) 123456788   \")\n",
        "\n",
        "# inicializa com os vocabularios do nlp\n",
        "matcher = Matcher(nlp.vocab)\n",
        "# adiciona padrão para telefone (41) - 778778877\n",
        "padrao = [{\"ORTH\": \"(\"}, {\"SHAPE\": \"dd\"}, {\"ORTH\": \")\"}, {\"ORTH\": \"-\", \"OP\": \"?\"}, {\"IS_DIGIT\": True}]\n",
        "matcher.add(\"Telefone\", [padrao]) # pode adicionar uma lista de padrões\n",
        "\n",
        "matches = matcher(document5)\n",
        "\n",
        "print(matches)\n",
        "\n",
        "for match_id, start, end in matches:\n",
        "  print(document5[start:end])"
      ],
      "metadata": {
        "colab": {
          "base_uri": "https://localhost:8080/"
        },
        "id": "04KNbTSDDkAN",
        "outputId": "9e27dde6-5afd-4459-f08a-ac2b8c7e1800"
      },
      "execution_count": 59,
      "outputs": [
        {
          "output_type": "stream",
          "name": "stdout",
          "text": [
            "[(5061115120961211591, 4, 9), (5061115120961211591, 10, 14)]\n",
            "(51) - 9964656570\n",
            "(11) 123456788\n"
          ]
        }
      ]
    },
    {
      "cell_type": "code",
      "source": [
        "document6 = nlp(\"Estamos infectados com micro organismos. MICROORGANISMOS são perigosos. Não enxergamos micro-organismos\")\n",
        "matcher = Matcher(nlp.vocab)\n",
        "\n",
        "padrao1 = [{\"LOWER\": \"micro-organismos\"}]\n",
        "padrao2 = [{\"LOWER\": \"microorganismos\"}]\n",
        "padrao3 = [{\"LOWER\": \"micro\"}, {\"LOWER\": \"organismos\"}]\n",
        "\n",
        "matcher.add(\"padrao micro\", [padrao1, padrao2, padrao3])\n",
        "\n",
        "matches2 = matcher(document6)\n",
        "\n",
        "for id, start, end in matches2:\n",
        "  print(document6[start:end])"
      ],
      "metadata": {
        "colab": {
          "base_uri": "https://localhost:8080/"
        },
        "id": "6rWnxLtEFssG",
        "outputId": "e578763b-1278-49d2-a6e6-a45cca080bfb"
      },
      "execution_count": 61,
      "outputs": [
        {
          "output_type": "stream",
          "name": "stdout",
          "text": [
            "micro organismos\n",
            "MICROORGANISMOS\n",
            "micro-organismos\n"
          ]
        }
      ]
    },
    {
      "cell_type": "code",
      "source": [
        "from spacy import displacy\n",
        "\n",
        "document.user_data['title'] = \"Exemplo 1\"\n",
        "displacy.render(document, style=\"ent\", jupyter=True)"
      ],
      "metadata": {
        "colab": {
          "base_uri": "https://localhost:8080/",
          "height": 78
        },
        "id": "kQBGZDPHH4cE",
        "outputId": "b6a59779-7d34-473b-e037-9ccdf64306e6"
      },
      "execution_count": 78,
      "outputs": [
        {
          "output_type": "display_data",
          "data": {
            "text/plain": [
              "<IPython.core.display.HTML object>"
            ],
            "text/html": [
              "<span class=\"tex2jax_ignore\"><h2 style=\"margin: 0\">Exemplo 1</h2>\n",
              "\n",
              "<div class=\"entities\" style=\"line-height: 2.5; direction: ltr\">As ações do \n",
              "<mark class=\"entity\" style=\"background: #7aecec; padding: 0.45em 0.6em; margin: 0 0.25em; line-height: 1; border-radius: 0.35em;\">\n",
              "    Magazine Luiza S.A.\n",
              "    <span style=\"font-size: 0.8em; font-weight: bold; line-height: 1; border-radius: 0.35em; vertical-align: middle; margin-left: 0.5rem\">ORG</span>\n",
              "</mark>\n",
              ", \n",
              "<mark class=\"entity\" style=\"background: #ff9561; padding: 0.45em 0.6em; margin: 0 0.25em; line-height: 1; border-radius: 0.35em;\">\n",
              "    Franca\n",
              "    <span style=\"font-size: 0.8em; font-weight: bold; line-height: 1; border-radius: 0.35em; vertical-align: middle; margin-left: 0.5rem\">LOC</span>\n",
              "</mark>\n",
              ", \n",
              "<mark class=\"entity\" style=\"background: #ff9561; padding: 0.45em 0.6em; margin: 0 0.25em; line-height: 1; border-radius: 0.35em;\">\n",
              "    Brasil\n",
              "    <span style=\"font-size: 0.8em; font-weight: bold; line-height: 1; border-radius: 0.35em; vertical-align: middle; margin-left: 0.5rem\">LOC</span>\n",
              "</mark>\n",
              ", acumularam baixa de 70% ao ano. Assim já devolveram todos os ganhos do período da pandemia</div></span>"
            ]
          },
          "metadata": {}
        }
      ]
    },
    {
      "cell_type": "code",
      "source": [
        "displacy.render(document, style=\"dep\", jupyter=True)"
      ],
      "metadata": {
        "colab": {
          "base_uri": "https://localhost:8080/",
          "height": 616
        },
        "id": "p7ewPMfAIgq_",
        "outputId": "271d682e-e358-474a-e8e5-fa032f379294"
      },
      "execution_count": 76,
      "outputs": [
        {
          "output_type": "display_data",
          "data": {
            "text/plain": [
              "<IPython.core.display.HTML object>"
            ],
            "text/html": [
              "<span class=\"tex2jax_ignore\"><svg xmlns=\"http://www.w3.org/2000/svg\" xmlns:xlink=\"http://www.w3.org/1999/xlink\" xml:lang=\"pt\" id=\"11b3f7d49ae3487886b49dca70372167-0\" class=\"displacy\" width=\"4250\" height=\"574.5\" direction=\"ltr\" style=\"max-width: none; height: 574.5px; color: #000000; background: #ffffff; font-family: Arial; direction: ltr\">\n",
              "<text class=\"displacy-token\" fill=\"currentColor\" text-anchor=\"middle\" y=\"484.5\">\n",
              "    <tspan class=\"displacy-word\" fill=\"currentColor\" x=\"50\">As</tspan>\n",
              "    <tspan class=\"displacy-tag\" dy=\"2em\" fill=\"currentColor\" x=\"50\">DET</tspan>\n",
              "</text>\n",
              "\n",
              "<text class=\"displacy-token\" fill=\"currentColor\" text-anchor=\"middle\" y=\"484.5\">\n",
              "    <tspan class=\"displacy-word\" fill=\"currentColor\" x=\"225\">ações</tspan>\n",
              "    <tspan class=\"displacy-tag\" dy=\"2em\" fill=\"currentColor\" x=\"225\">NOUN</tspan>\n",
              "</text>\n",
              "\n",
              "<text class=\"displacy-token\" fill=\"currentColor\" text-anchor=\"middle\" y=\"484.5\">\n",
              "    <tspan class=\"displacy-word\" fill=\"currentColor\" x=\"400\">do</tspan>\n",
              "    <tspan class=\"displacy-tag\" dy=\"2em\" fill=\"currentColor\" x=\"400\">ADP</tspan>\n",
              "</text>\n",
              "\n",
              "<text class=\"displacy-token\" fill=\"currentColor\" text-anchor=\"middle\" y=\"484.5\">\n",
              "    <tspan class=\"displacy-word\" fill=\"currentColor\" x=\"575\">Magazine</tspan>\n",
              "    <tspan class=\"displacy-tag\" dy=\"2em\" fill=\"currentColor\" x=\"575\">PROPN</tspan>\n",
              "</text>\n",
              "\n",
              "<text class=\"displacy-token\" fill=\"currentColor\" text-anchor=\"middle\" y=\"484.5\">\n",
              "    <tspan class=\"displacy-word\" fill=\"currentColor\" x=\"750\">Luiza</tspan>\n",
              "    <tspan class=\"displacy-tag\" dy=\"2em\" fill=\"currentColor\" x=\"750\">PROPN</tspan>\n",
              "</text>\n",
              "\n",
              "<text class=\"displacy-token\" fill=\"currentColor\" text-anchor=\"middle\" y=\"484.5\">\n",
              "    <tspan class=\"displacy-word\" fill=\"currentColor\" x=\"925\">S.A.,</tspan>\n",
              "    <tspan class=\"displacy-tag\" dy=\"2em\" fill=\"currentColor\" x=\"925\">PROPN</tspan>\n",
              "</text>\n",
              "\n",
              "<text class=\"displacy-token\" fill=\"currentColor\" text-anchor=\"middle\" y=\"484.5\">\n",
              "    <tspan class=\"displacy-word\" fill=\"currentColor\" x=\"1100\">Franca,</tspan>\n",
              "    <tspan class=\"displacy-tag\" dy=\"2em\" fill=\"currentColor\" x=\"1100\">PROPN</tspan>\n",
              "</text>\n",
              "\n",
              "<text class=\"displacy-token\" fill=\"currentColor\" text-anchor=\"middle\" y=\"484.5\">\n",
              "    <tspan class=\"displacy-word\" fill=\"currentColor\" x=\"1275\">Brasil,</tspan>\n",
              "    <tspan class=\"displacy-tag\" dy=\"2em\" fill=\"currentColor\" x=\"1275\">PROPN</tspan>\n",
              "</text>\n",
              "\n",
              "<text class=\"displacy-token\" fill=\"currentColor\" text-anchor=\"middle\" y=\"484.5\">\n",
              "    <tspan class=\"displacy-word\" fill=\"currentColor\" x=\"1450\">acumularam</tspan>\n",
              "    <tspan class=\"displacy-tag\" dy=\"2em\" fill=\"currentColor\" x=\"1450\">VERB</tspan>\n",
              "</text>\n",
              "\n",
              "<text class=\"displacy-token\" fill=\"currentColor\" text-anchor=\"middle\" y=\"484.5\">\n",
              "    <tspan class=\"displacy-word\" fill=\"currentColor\" x=\"1625\">baixa</tspan>\n",
              "    <tspan class=\"displacy-tag\" dy=\"2em\" fill=\"currentColor\" x=\"1625\">NOUN</tspan>\n",
              "</text>\n",
              "\n",
              "<text class=\"displacy-token\" fill=\"currentColor\" text-anchor=\"middle\" y=\"484.5\">\n",
              "    <tspan class=\"displacy-word\" fill=\"currentColor\" x=\"1800\">de</tspan>\n",
              "    <tspan class=\"displacy-tag\" dy=\"2em\" fill=\"currentColor\" x=\"1800\">ADP</tspan>\n",
              "</text>\n",
              "\n",
              "<text class=\"displacy-token\" fill=\"currentColor\" text-anchor=\"middle\" y=\"484.5\">\n",
              "    <tspan class=\"displacy-word\" fill=\"currentColor\" x=\"1975\">70%</tspan>\n",
              "    <tspan class=\"displacy-tag\" dy=\"2em\" fill=\"currentColor\" x=\"1975\">SYM</tspan>\n",
              "</text>\n",
              "\n",
              "<text class=\"displacy-token\" fill=\"currentColor\" text-anchor=\"middle\" y=\"484.5\">\n",
              "    <tspan class=\"displacy-word\" fill=\"currentColor\" x=\"2150\">ao</tspan>\n",
              "    <tspan class=\"displacy-tag\" dy=\"2em\" fill=\"currentColor\" x=\"2150\">ADP</tspan>\n",
              "</text>\n",
              "\n",
              "<text class=\"displacy-token\" fill=\"currentColor\" text-anchor=\"middle\" y=\"484.5\">\n",
              "    <tspan class=\"displacy-word\" fill=\"currentColor\" x=\"2325\">ano.</tspan>\n",
              "    <tspan class=\"displacy-tag\" dy=\"2em\" fill=\"currentColor\" x=\"2325\">NOUN</tspan>\n",
              "</text>\n",
              "\n",
              "<text class=\"displacy-token\" fill=\"currentColor\" text-anchor=\"middle\" y=\"484.5\">\n",
              "    <tspan class=\"displacy-word\" fill=\"currentColor\" x=\"2500\">Assim</tspan>\n",
              "    <tspan class=\"displacy-tag\" dy=\"2em\" fill=\"currentColor\" x=\"2500\">ADV</tspan>\n",
              "</text>\n",
              "\n",
              "<text class=\"displacy-token\" fill=\"currentColor\" text-anchor=\"middle\" y=\"484.5\">\n",
              "    <tspan class=\"displacy-word\" fill=\"currentColor\" x=\"2675\">já</tspan>\n",
              "    <tspan class=\"displacy-tag\" dy=\"2em\" fill=\"currentColor\" x=\"2675\">ADV</tspan>\n",
              "</text>\n",
              "\n",
              "<text class=\"displacy-token\" fill=\"currentColor\" text-anchor=\"middle\" y=\"484.5\">\n",
              "    <tspan class=\"displacy-word\" fill=\"currentColor\" x=\"2850\">devolveram</tspan>\n",
              "    <tspan class=\"displacy-tag\" dy=\"2em\" fill=\"currentColor\" x=\"2850\">VERB</tspan>\n",
              "</text>\n",
              "\n",
              "<text class=\"displacy-token\" fill=\"currentColor\" text-anchor=\"middle\" y=\"484.5\">\n",
              "    <tspan class=\"displacy-word\" fill=\"currentColor\" x=\"3025\">todos</tspan>\n",
              "    <tspan class=\"displacy-tag\" dy=\"2em\" fill=\"currentColor\" x=\"3025\">DET</tspan>\n",
              "</text>\n",
              "\n",
              "<text class=\"displacy-token\" fill=\"currentColor\" text-anchor=\"middle\" y=\"484.5\">\n",
              "    <tspan class=\"displacy-word\" fill=\"currentColor\" x=\"3200\">os</tspan>\n",
              "    <tspan class=\"displacy-tag\" dy=\"2em\" fill=\"currentColor\" x=\"3200\">DET</tspan>\n",
              "</text>\n",
              "\n",
              "<text class=\"displacy-token\" fill=\"currentColor\" text-anchor=\"middle\" y=\"484.5\">\n",
              "    <tspan class=\"displacy-word\" fill=\"currentColor\" x=\"3375\">ganhos</tspan>\n",
              "    <tspan class=\"displacy-tag\" dy=\"2em\" fill=\"currentColor\" x=\"3375\">NOUN</tspan>\n",
              "</text>\n",
              "\n",
              "<text class=\"displacy-token\" fill=\"currentColor\" text-anchor=\"middle\" y=\"484.5\">\n",
              "    <tspan class=\"displacy-word\" fill=\"currentColor\" x=\"3550\">do</tspan>\n",
              "    <tspan class=\"displacy-tag\" dy=\"2em\" fill=\"currentColor\" x=\"3550\">ADP</tspan>\n",
              "</text>\n",
              "\n",
              "<text class=\"displacy-token\" fill=\"currentColor\" text-anchor=\"middle\" y=\"484.5\">\n",
              "    <tspan class=\"displacy-word\" fill=\"currentColor\" x=\"3725\">período</tspan>\n",
              "    <tspan class=\"displacy-tag\" dy=\"2em\" fill=\"currentColor\" x=\"3725\">NOUN</tspan>\n",
              "</text>\n",
              "\n",
              "<text class=\"displacy-token\" fill=\"currentColor\" text-anchor=\"middle\" y=\"484.5\">\n",
              "    <tspan class=\"displacy-word\" fill=\"currentColor\" x=\"3900\">da</tspan>\n",
              "    <tspan class=\"displacy-tag\" dy=\"2em\" fill=\"currentColor\" x=\"3900\">ADP</tspan>\n",
              "</text>\n",
              "\n",
              "<text class=\"displacy-token\" fill=\"currentColor\" text-anchor=\"middle\" y=\"484.5\">\n",
              "    <tspan class=\"displacy-word\" fill=\"currentColor\" x=\"4075\">pandemia</tspan>\n",
              "    <tspan class=\"displacy-tag\" dy=\"2em\" fill=\"currentColor\" x=\"4075\">NOUN</tspan>\n",
              "</text>\n",
              "\n",
              "<g class=\"displacy-arrow\">\n",
              "    <path class=\"displacy-arc\" id=\"arrow-11b3f7d49ae3487886b49dca70372167-0-0\" stroke-width=\"2px\" d=\"M70,439.5 C70,352.0 205.0,352.0 205.0,439.5\" fill=\"none\" stroke=\"currentColor\"/>\n",
              "    <text dy=\"1.25em\" style=\"font-size: 0.8em; letter-spacing: 1px\">\n",
              "        <textPath xlink:href=\"#arrow-11b3f7d49ae3487886b49dca70372167-0-0\" class=\"displacy-label\" startOffset=\"50%\" side=\"left\" fill=\"currentColor\" text-anchor=\"middle\">det</textPath>\n",
              "    </text>\n",
              "    <path class=\"displacy-arrowhead\" d=\"M70,441.5 L62,429.5 78,429.5\" fill=\"currentColor\"/>\n",
              "</g>\n",
              "\n",
              "<g class=\"displacy-arrow\">\n",
              "    <path class=\"displacy-arc\" id=\"arrow-11b3f7d49ae3487886b49dca70372167-0-1\" stroke-width=\"2px\" d=\"M245,439.5 C245,2.0 1450.0,2.0 1450.0,439.5\" fill=\"none\" stroke=\"currentColor\"/>\n",
              "    <text dy=\"1.25em\" style=\"font-size: 0.8em; letter-spacing: 1px\">\n",
              "        <textPath xlink:href=\"#arrow-11b3f7d49ae3487886b49dca70372167-0-1\" class=\"displacy-label\" startOffset=\"50%\" side=\"left\" fill=\"currentColor\" text-anchor=\"middle\">nsubj</textPath>\n",
              "    </text>\n",
              "    <path class=\"displacy-arrowhead\" d=\"M245,441.5 L237,429.5 253,429.5\" fill=\"currentColor\"/>\n",
              "</g>\n",
              "\n",
              "<g class=\"displacy-arrow\">\n",
              "    <path class=\"displacy-arc\" id=\"arrow-11b3f7d49ae3487886b49dca70372167-0-2\" stroke-width=\"2px\" d=\"M420,439.5 C420,352.0 555.0,352.0 555.0,439.5\" fill=\"none\" stroke=\"currentColor\"/>\n",
              "    <text dy=\"1.25em\" style=\"font-size: 0.8em; letter-spacing: 1px\">\n",
              "        <textPath xlink:href=\"#arrow-11b3f7d49ae3487886b49dca70372167-0-2\" class=\"displacy-label\" startOffset=\"50%\" side=\"left\" fill=\"currentColor\" text-anchor=\"middle\">case</textPath>\n",
              "    </text>\n",
              "    <path class=\"displacy-arrowhead\" d=\"M420,441.5 L412,429.5 428,429.5\" fill=\"currentColor\"/>\n",
              "</g>\n",
              "\n",
              "<g class=\"displacy-arrow\">\n",
              "    <path class=\"displacy-arc\" id=\"arrow-11b3f7d49ae3487886b49dca70372167-0-3\" stroke-width=\"2px\" d=\"M245,439.5 C245,264.5 560.0,264.5 560.0,439.5\" fill=\"none\" stroke=\"currentColor\"/>\n",
              "    <text dy=\"1.25em\" style=\"font-size: 0.8em; letter-spacing: 1px\">\n",
              "        <textPath xlink:href=\"#arrow-11b3f7d49ae3487886b49dca70372167-0-3\" class=\"displacy-label\" startOffset=\"50%\" side=\"left\" fill=\"currentColor\" text-anchor=\"middle\">nmod</textPath>\n",
              "    </text>\n",
              "    <path class=\"displacy-arrowhead\" d=\"M560.0,441.5 L568.0,429.5 552.0,429.5\" fill=\"currentColor\"/>\n",
              "</g>\n",
              "\n",
              "<g class=\"displacy-arrow\">\n",
              "    <path class=\"displacy-arc\" id=\"arrow-11b3f7d49ae3487886b49dca70372167-0-4\" stroke-width=\"2px\" d=\"M595,439.5 C595,352.0 730.0,352.0 730.0,439.5\" fill=\"none\" stroke=\"currentColor\"/>\n",
              "    <text dy=\"1.25em\" style=\"font-size: 0.8em; letter-spacing: 1px\">\n",
              "        <textPath xlink:href=\"#arrow-11b3f7d49ae3487886b49dca70372167-0-4\" class=\"displacy-label\" startOffset=\"50%\" side=\"left\" fill=\"currentColor\" text-anchor=\"middle\">appos</textPath>\n",
              "    </text>\n",
              "    <path class=\"displacy-arrowhead\" d=\"M730.0,441.5 L738.0,429.5 722.0,429.5\" fill=\"currentColor\"/>\n",
              "</g>\n",
              "\n",
              "<g class=\"displacy-arrow\">\n",
              "    <path class=\"displacy-arc\" id=\"arrow-11b3f7d49ae3487886b49dca70372167-0-5\" stroke-width=\"2px\" d=\"M595,439.5 C595,264.5 910.0,264.5 910.0,439.5\" fill=\"none\" stroke=\"currentColor\"/>\n",
              "    <text dy=\"1.25em\" style=\"font-size: 0.8em; letter-spacing: 1px\">\n",
              "        <textPath xlink:href=\"#arrow-11b3f7d49ae3487886b49dca70372167-0-5\" class=\"displacy-label\" startOffset=\"50%\" side=\"left\" fill=\"currentColor\" text-anchor=\"middle\">flat:name</textPath>\n",
              "    </text>\n",
              "    <path class=\"displacy-arrowhead\" d=\"M910.0,441.5 L918.0,429.5 902.0,429.5\" fill=\"currentColor\"/>\n",
              "</g>\n",
              "\n",
              "<g class=\"displacy-arrow\">\n",
              "    <path class=\"displacy-arc\" id=\"arrow-11b3f7d49ae3487886b49dca70372167-0-6\" stroke-width=\"2px\" d=\"M595,439.5 C595,177.0 1090.0,177.0 1090.0,439.5\" fill=\"none\" stroke=\"currentColor\"/>\n",
              "    <text dy=\"1.25em\" style=\"font-size: 0.8em; letter-spacing: 1px\">\n",
              "        <textPath xlink:href=\"#arrow-11b3f7d49ae3487886b49dca70372167-0-6\" class=\"displacy-label\" startOffset=\"50%\" side=\"left\" fill=\"currentColor\" text-anchor=\"middle\">conj</textPath>\n",
              "    </text>\n",
              "    <path class=\"displacy-arrowhead\" d=\"M1090.0,441.5 L1098.0,429.5 1082.0,429.5\" fill=\"currentColor\"/>\n",
              "</g>\n",
              "\n",
              "<g class=\"displacy-arrow\">\n",
              "    <path class=\"displacy-arc\" id=\"arrow-11b3f7d49ae3487886b49dca70372167-0-7\" stroke-width=\"2px\" d=\"M595,439.5 C595,89.5 1270.0,89.5 1270.0,439.5\" fill=\"none\" stroke=\"currentColor\"/>\n",
              "    <text dy=\"1.25em\" style=\"font-size: 0.8em; letter-spacing: 1px\">\n",
              "        <textPath xlink:href=\"#arrow-11b3f7d49ae3487886b49dca70372167-0-7\" class=\"displacy-label\" startOffset=\"50%\" side=\"left\" fill=\"currentColor\" text-anchor=\"middle\">conj</textPath>\n",
              "    </text>\n",
              "    <path class=\"displacy-arrowhead\" d=\"M1270.0,441.5 L1278.0,429.5 1262.0,429.5\" fill=\"currentColor\"/>\n",
              "</g>\n",
              "\n",
              "<g class=\"displacy-arrow\">\n",
              "    <path class=\"displacy-arc\" id=\"arrow-11b3f7d49ae3487886b49dca70372167-0-8\" stroke-width=\"2px\" d=\"M1470,439.5 C1470,352.0 1605.0,352.0 1605.0,439.5\" fill=\"none\" stroke=\"currentColor\"/>\n",
              "    <text dy=\"1.25em\" style=\"font-size: 0.8em; letter-spacing: 1px\">\n",
              "        <textPath xlink:href=\"#arrow-11b3f7d49ae3487886b49dca70372167-0-8\" class=\"displacy-label\" startOffset=\"50%\" side=\"left\" fill=\"currentColor\" text-anchor=\"middle\">obj</textPath>\n",
              "    </text>\n",
              "    <path class=\"displacy-arrowhead\" d=\"M1605.0,441.5 L1613.0,429.5 1597.0,429.5\" fill=\"currentColor\"/>\n",
              "</g>\n",
              "\n",
              "<g class=\"displacy-arrow\">\n",
              "    <path class=\"displacy-arc\" id=\"arrow-11b3f7d49ae3487886b49dca70372167-0-9\" stroke-width=\"2px\" d=\"M1820,439.5 C1820,352.0 1955.0,352.0 1955.0,439.5\" fill=\"none\" stroke=\"currentColor\"/>\n",
              "    <text dy=\"1.25em\" style=\"font-size: 0.8em; letter-spacing: 1px\">\n",
              "        <textPath xlink:href=\"#arrow-11b3f7d49ae3487886b49dca70372167-0-9\" class=\"displacy-label\" startOffset=\"50%\" side=\"left\" fill=\"currentColor\" text-anchor=\"middle\">case</textPath>\n",
              "    </text>\n",
              "    <path class=\"displacy-arrowhead\" d=\"M1820,441.5 L1812,429.5 1828,429.5\" fill=\"currentColor\"/>\n",
              "</g>\n",
              "\n",
              "<g class=\"displacy-arrow\">\n",
              "    <path class=\"displacy-arc\" id=\"arrow-11b3f7d49ae3487886b49dca70372167-0-10\" stroke-width=\"2px\" d=\"M1645,439.5 C1645,264.5 1960.0,264.5 1960.0,439.5\" fill=\"none\" stroke=\"currentColor\"/>\n",
              "    <text dy=\"1.25em\" style=\"font-size: 0.8em; letter-spacing: 1px\">\n",
              "        <textPath xlink:href=\"#arrow-11b3f7d49ae3487886b49dca70372167-0-10\" class=\"displacy-label\" startOffset=\"50%\" side=\"left\" fill=\"currentColor\" text-anchor=\"middle\">nmod</textPath>\n",
              "    </text>\n",
              "    <path class=\"displacy-arrowhead\" d=\"M1960.0,441.5 L1968.0,429.5 1952.0,429.5\" fill=\"currentColor\"/>\n",
              "</g>\n",
              "\n",
              "<g class=\"displacy-arrow\">\n",
              "    <path class=\"displacy-arc\" id=\"arrow-11b3f7d49ae3487886b49dca70372167-0-11\" stroke-width=\"2px\" d=\"M2170,439.5 C2170,352.0 2305.0,352.0 2305.0,439.5\" fill=\"none\" stroke=\"currentColor\"/>\n",
              "    <text dy=\"1.25em\" style=\"font-size: 0.8em; letter-spacing: 1px\">\n",
              "        <textPath xlink:href=\"#arrow-11b3f7d49ae3487886b49dca70372167-0-11\" class=\"displacy-label\" startOffset=\"50%\" side=\"left\" fill=\"currentColor\" text-anchor=\"middle\">case</textPath>\n",
              "    </text>\n",
              "    <path class=\"displacy-arrowhead\" d=\"M2170,441.5 L2162,429.5 2178,429.5\" fill=\"currentColor\"/>\n",
              "</g>\n",
              "\n",
              "<g class=\"displacy-arrow\">\n",
              "    <path class=\"displacy-arc\" id=\"arrow-11b3f7d49ae3487886b49dca70372167-0-12\" stroke-width=\"2px\" d=\"M1645,439.5 C1645,177.0 2315.0,177.0 2315.0,439.5\" fill=\"none\" stroke=\"currentColor\"/>\n",
              "    <text dy=\"1.25em\" style=\"font-size: 0.8em; letter-spacing: 1px\">\n",
              "        <textPath xlink:href=\"#arrow-11b3f7d49ae3487886b49dca70372167-0-12\" class=\"displacy-label\" startOffset=\"50%\" side=\"left\" fill=\"currentColor\" text-anchor=\"middle\">nmod</textPath>\n",
              "    </text>\n",
              "    <path class=\"displacy-arrowhead\" d=\"M2315.0,441.5 L2323.0,429.5 2307.0,429.5\" fill=\"currentColor\"/>\n",
              "</g>\n",
              "\n",
              "<g class=\"displacy-arrow\">\n",
              "    <path class=\"displacy-arc\" id=\"arrow-11b3f7d49ae3487886b49dca70372167-0-13\" stroke-width=\"2px\" d=\"M2520,439.5 C2520,264.5 2835.0,264.5 2835.0,439.5\" fill=\"none\" stroke=\"currentColor\"/>\n",
              "    <text dy=\"1.25em\" style=\"font-size: 0.8em; letter-spacing: 1px\">\n",
              "        <textPath xlink:href=\"#arrow-11b3f7d49ae3487886b49dca70372167-0-13\" class=\"displacy-label\" startOffset=\"50%\" side=\"left\" fill=\"currentColor\" text-anchor=\"middle\">advmod</textPath>\n",
              "    </text>\n",
              "    <path class=\"displacy-arrowhead\" d=\"M2520,441.5 L2512,429.5 2528,429.5\" fill=\"currentColor\"/>\n",
              "</g>\n",
              "\n",
              "<g class=\"displacy-arrow\">\n",
              "    <path class=\"displacy-arc\" id=\"arrow-11b3f7d49ae3487886b49dca70372167-0-14\" stroke-width=\"2px\" d=\"M2695,439.5 C2695,352.0 2830.0,352.0 2830.0,439.5\" fill=\"none\" stroke=\"currentColor\"/>\n",
              "    <text dy=\"1.25em\" style=\"font-size: 0.8em; letter-spacing: 1px\">\n",
              "        <textPath xlink:href=\"#arrow-11b3f7d49ae3487886b49dca70372167-0-14\" class=\"displacy-label\" startOffset=\"50%\" side=\"left\" fill=\"currentColor\" text-anchor=\"middle\">advmod</textPath>\n",
              "    </text>\n",
              "    <path class=\"displacy-arrowhead\" d=\"M2695,441.5 L2687,429.5 2703,429.5\" fill=\"currentColor\"/>\n",
              "</g>\n",
              "\n",
              "<g class=\"displacy-arrow\">\n",
              "    <path class=\"displacy-arc\" id=\"arrow-11b3f7d49ae3487886b49dca70372167-0-15\" stroke-width=\"2px\" d=\"M3045,439.5 C3045,264.5 3360.0,264.5 3360.0,439.5\" fill=\"none\" stroke=\"currentColor\"/>\n",
              "    <text dy=\"1.25em\" style=\"font-size: 0.8em; letter-spacing: 1px\">\n",
              "        <textPath xlink:href=\"#arrow-11b3f7d49ae3487886b49dca70372167-0-15\" class=\"displacy-label\" startOffset=\"50%\" side=\"left\" fill=\"currentColor\" text-anchor=\"middle\">det</textPath>\n",
              "    </text>\n",
              "    <path class=\"displacy-arrowhead\" d=\"M3045,441.5 L3037,429.5 3053,429.5\" fill=\"currentColor\"/>\n",
              "</g>\n",
              "\n",
              "<g class=\"displacy-arrow\">\n",
              "    <path class=\"displacy-arc\" id=\"arrow-11b3f7d49ae3487886b49dca70372167-0-16\" stroke-width=\"2px\" d=\"M3220,439.5 C3220,352.0 3355.0,352.0 3355.0,439.5\" fill=\"none\" stroke=\"currentColor\"/>\n",
              "    <text dy=\"1.25em\" style=\"font-size: 0.8em; letter-spacing: 1px\">\n",
              "        <textPath xlink:href=\"#arrow-11b3f7d49ae3487886b49dca70372167-0-16\" class=\"displacy-label\" startOffset=\"50%\" side=\"left\" fill=\"currentColor\" text-anchor=\"middle\">det</textPath>\n",
              "    </text>\n",
              "    <path class=\"displacy-arrowhead\" d=\"M3220,441.5 L3212,429.5 3228,429.5\" fill=\"currentColor\"/>\n",
              "</g>\n",
              "\n",
              "<g class=\"displacy-arrow\">\n",
              "    <path class=\"displacy-arc\" id=\"arrow-11b3f7d49ae3487886b49dca70372167-0-17\" stroke-width=\"2px\" d=\"M2870,439.5 C2870,177.0 3365.0,177.0 3365.0,439.5\" fill=\"none\" stroke=\"currentColor\"/>\n",
              "    <text dy=\"1.25em\" style=\"font-size: 0.8em; letter-spacing: 1px\">\n",
              "        <textPath xlink:href=\"#arrow-11b3f7d49ae3487886b49dca70372167-0-17\" class=\"displacy-label\" startOffset=\"50%\" side=\"left\" fill=\"currentColor\" text-anchor=\"middle\">obj</textPath>\n",
              "    </text>\n",
              "    <path class=\"displacy-arrowhead\" d=\"M3365.0,441.5 L3373.0,429.5 3357.0,429.5\" fill=\"currentColor\"/>\n",
              "</g>\n",
              "\n",
              "<g class=\"displacy-arrow\">\n",
              "    <path class=\"displacy-arc\" id=\"arrow-11b3f7d49ae3487886b49dca70372167-0-18\" stroke-width=\"2px\" d=\"M3570,439.5 C3570,352.0 3705.0,352.0 3705.0,439.5\" fill=\"none\" stroke=\"currentColor\"/>\n",
              "    <text dy=\"1.25em\" style=\"font-size: 0.8em; letter-spacing: 1px\">\n",
              "        <textPath xlink:href=\"#arrow-11b3f7d49ae3487886b49dca70372167-0-18\" class=\"displacy-label\" startOffset=\"50%\" side=\"left\" fill=\"currentColor\" text-anchor=\"middle\">case</textPath>\n",
              "    </text>\n",
              "    <path class=\"displacy-arrowhead\" d=\"M3570,441.5 L3562,429.5 3578,429.5\" fill=\"currentColor\"/>\n",
              "</g>\n",
              "\n",
              "<g class=\"displacy-arrow\">\n",
              "    <path class=\"displacy-arc\" id=\"arrow-11b3f7d49ae3487886b49dca70372167-0-19\" stroke-width=\"2px\" d=\"M3395,439.5 C3395,264.5 3710.0,264.5 3710.0,439.5\" fill=\"none\" stroke=\"currentColor\"/>\n",
              "    <text dy=\"1.25em\" style=\"font-size: 0.8em; letter-spacing: 1px\">\n",
              "        <textPath xlink:href=\"#arrow-11b3f7d49ae3487886b49dca70372167-0-19\" class=\"displacy-label\" startOffset=\"50%\" side=\"left\" fill=\"currentColor\" text-anchor=\"middle\">nmod</textPath>\n",
              "    </text>\n",
              "    <path class=\"displacy-arrowhead\" d=\"M3710.0,441.5 L3718.0,429.5 3702.0,429.5\" fill=\"currentColor\"/>\n",
              "</g>\n",
              "\n",
              "<g class=\"displacy-arrow\">\n",
              "    <path class=\"displacy-arc\" id=\"arrow-11b3f7d49ae3487886b49dca70372167-0-20\" stroke-width=\"2px\" d=\"M3920,439.5 C3920,352.0 4055.0,352.0 4055.0,439.5\" fill=\"none\" stroke=\"currentColor\"/>\n",
              "    <text dy=\"1.25em\" style=\"font-size: 0.8em; letter-spacing: 1px\">\n",
              "        <textPath xlink:href=\"#arrow-11b3f7d49ae3487886b49dca70372167-0-20\" class=\"displacy-label\" startOffset=\"50%\" side=\"left\" fill=\"currentColor\" text-anchor=\"middle\">case</textPath>\n",
              "    </text>\n",
              "    <path class=\"displacy-arrowhead\" d=\"M3920,441.5 L3912,429.5 3928,429.5\" fill=\"currentColor\"/>\n",
              "</g>\n",
              "\n",
              "<g class=\"displacy-arrow\">\n",
              "    <path class=\"displacy-arc\" id=\"arrow-11b3f7d49ae3487886b49dca70372167-0-21\" stroke-width=\"2px\" d=\"M3745,439.5 C3745,264.5 4060.0,264.5 4060.0,439.5\" fill=\"none\" stroke=\"currentColor\"/>\n",
              "    <text dy=\"1.25em\" style=\"font-size: 0.8em; letter-spacing: 1px\">\n",
              "        <textPath xlink:href=\"#arrow-11b3f7d49ae3487886b49dca70372167-0-21\" class=\"displacy-label\" startOffset=\"50%\" side=\"left\" fill=\"currentColor\" text-anchor=\"middle\">nmod</textPath>\n",
              "    </text>\n",
              "    <path class=\"displacy-arrowhead\" d=\"M4060.0,441.5 L4068.0,429.5 4052.0,429.5\" fill=\"currentColor\"/>\n",
              "</g>\n",
              "</svg></span>"
            ]
          },
          "metadata": {}
        }
      ]
    },
    {
      "cell_type": "code",
      "source": [
        "displacy.render(document, style=\"dep\", jupyter=True, options={'compact': True, 'distance': 70, 'color': '#FFF', 'bg': '#000', 'font': 'Arial'})\n"
      ],
      "metadata": {
        "colab": {
          "base_uri": "https://localhost:8080/",
          "height": 354
        },
        "id": "Pq0XjwzJIqEi",
        "outputId": "78090c95-4fdf-4005-dbe0-39d64fa37484"
      },
      "execution_count": 75,
      "outputs": [
        {
          "output_type": "display_data",
          "data": {
            "text/plain": [
              "<IPython.core.display.HTML object>"
            ],
            "text/html": [
              "<span class=\"tex2jax_ignore\"><svg xmlns=\"http://www.w3.org/2000/svg\" xmlns:xlink=\"http://www.w3.org/1999/xlink\" xml:lang=\"pt\" id=\"c720b5bc3fe1496a97061fd15df99e26-0\" class=\"displacy\" width=\"1730\" height=\"312.0\" direction=\"ltr\" style=\"max-width: none; height: 312.0px; color: #FFF; background: #000; font-family: Arial; direction: ltr\">\n",
              "<text class=\"displacy-token\" fill=\"currentColor\" text-anchor=\"middle\" y=\"222.0\">\n",
              "    <tspan class=\"displacy-word\" fill=\"currentColor\" x=\"50\">As</tspan>\n",
              "    <tspan class=\"displacy-tag\" dy=\"2em\" fill=\"currentColor\" x=\"50\">DET</tspan>\n",
              "</text>\n",
              "\n",
              "<text class=\"displacy-token\" fill=\"currentColor\" text-anchor=\"middle\" y=\"222.0\">\n",
              "    <tspan class=\"displacy-word\" fill=\"currentColor\" x=\"120\">ações</tspan>\n",
              "    <tspan class=\"displacy-tag\" dy=\"2em\" fill=\"currentColor\" x=\"120\">NOUN</tspan>\n",
              "</text>\n",
              "\n",
              "<text class=\"displacy-token\" fill=\"currentColor\" text-anchor=\"middle\" y=\"222.0\">\n",
              "    <tspan class=\"displacy-word\" fill=\"currentColor\" x=\"190\">do</tspan>\n",
              "    <tspan class=\"displacy-tag\" dy=\"2em\" fill=\"currentColor\" x=\"190\">ADP</tspan>\n",
              "</text>\n",
              "\n",
              "<text class=\"displacy-token\" fill=\"currentColor\" text-anchor=\"middle\" y=\"222.0\">\n",
              "    <tspan class=\"displacy-word\" fill=\"currentColor\" x=\"260\">Magazine</tspan>\n",
              "    <tspan class=\"displacy-tag\" dy=\"2em\" fill=\"currentColor\" x=\"260\">PROPN</tspan>\n",
              "</text>\n",
              "\n",
              "<text class=\"displacy-token\" fill=\"currentColor\" text-anchor=\"middle\" y=\"222.0\">\n",
              "    <tspan class=\"displacy-word\" fill=\"currentColor\" x=\"330\">Luiza</tspan>\n",
              "    <tspan class=\"displacy-tag\" dy=\"2em\" fill=\"currentColor\" x=\"330\">PROPN</tspan>\n",
              "</text>\n",
              "\n",
              "<text class=\"displacy-token\" fill=\"currentColor\" text-anchor=\"middle\" y=\"222.0\">\n",
              "    <tspan class=\"displacy-word\" fill=\"currentColor\" x=\"400\">S.A.,</tspan>\n",
              "    <tspan class=\"displacy-tag\" dy=\"2em\" fill=\"currentColor\" x=\"400\">PROPN</tspan>\n",
              "</text>\n",
              "\n",
              "<text class=\"displacy-token\" fill=\"currentColor\" text-anchor=\"middle\" y=\"222.0\">\n",
              "    <tspan class=\"displacy-word\" fill=\"currentColor\" x=\"470\">Franca,</tspan>\n",
              "    <tspan class=\"displacy-tag\" dy=\"2em\" fill=\"currentColor\" x=\"470\">PROPN</tspan>\n",
              "</text>\n",
              "\n",
              "<text class=\"displacy-token\" fill=\"currentColor\" text-anchor=\"middle\" y=\"222.0\">\n",
              "    <tspan class=\"displacy-word\" fill=\"currentColor\" x=\"540\">Brasil,</tspan>\n",
              "    <tspan class=\"displacy-tag\" dy=\"2em\" fill=\"currentColor\" x=\"540\">PROPN</tspan>\n",
              "</text>\n",
              "\n",
              "<text class=\"displacy-token\" fill=\"currentColor\" text-anchor=\"middle\" y=\"222.0\">\n",
              "    <tspan class=\"displacy-word\" fill=\"currentColor\" x=\"610\">acumularam</tspan>\n",
              "    <tspan class=\"displacy-tag\" dy=\"2em\" fill=\"currentColor\" x=\"610\">VERB</tspan>\n",
              "</text>\n",
              "\n",
              "<text class=\"displacy-token\" fill=\"currentColor\" text-anchor=\"middle\" y=\"222.0\">\n",
              "    <tspan class=\"displacy-word\" fill=\"currentColor\" x=\"680\">baixa</tspan>\n",
              "    <tspan class=\"displacy-tag\" dy=\"2em\" fill=\"currentColor\" x=\"680\">NOUN</tspan>\n",
              "</text>\n",
              "\n",
              "<text class=\"displacy-token\" fill=\"currentColor\" text-anchor=\"middle\" y=\"222.0\">\n",
              "    <tspan class=\"displacy-word\" fill=\"currentColor\" x=\"750\">de</tspan>\n",
              "    <tspan class=\"displacy-tag\" dy=\"2em\" fill=\"currentColor\" x=\"750\">ADP</tspan>\n",
              "</text>\n",
              "\n",
              "<text class=\"displacy-token\" fill=\"currentColor\" text-anchor=\"middle\" y=\"222.0\">\n",
              "    <tspan class=\"displacy-word\" fill=\"currentColor\" x=\"820\">70%</tspan>\n",
              "    <tspan class=\"displacy-tag\" dy=\"2em\" fill=\"currentColor\" x=\"820\">SYM</tspan>\n",
              "</text>\n",
              "\n",
              "<text class=\"displacy-token\" fill=\"currentColor\" text-anchor=\"middle\" y=\"222.0\">\n",
              "    <tspan class=\"displacy-word\" fill=\"currentColor\" x=\"890\">ao</tspan>\n",
              "    <tspan class=\"displacy-tag\" dy=\"2em\" fill=\"currentColor\" x=\"890\">ADP</tspan>\n",
              "</text>\n",
              "\n",
              "<text class=\"displacy-token\" fill=\"currentColor\" text-anchor=\"middle\" y=\"222.0\">\n",
              "    <tspan class=\"displacy-word\" fill=\"currentColor\" x=\"960\">ano.</tspan>\n",
              "    <tspan class=\"displacy-tag\" dy=\"2em\" fill=\"currentColor\" x=\"960\">NOUN</tspan>\n",
              "</text>\n",
              "\n",
              "<text class=\"displacy-token\" fill=\"currentColor\" text-anchor=\"middle\" y=\"222.0\">\n",
              "    <tspan class=\"displacy-word\" fill=\"currentColor\" x=\"1030\">Assim</tspan>\n",
              "    <tspan class=\"displacy-tag\" dy=\"2em\" fill=\"currentColor\" x=\"1030\">ADV</tspan>\n",
              "</text>\n",
              "\n",
              "<text class=\"displacy-token\" fill=\"currentColor\" text-anchor=\"middle\" y=\"222.0\">\n",
              "    <tspan class=\"displacy-word\" fill=\"currentColor\" x=\"1100\">já</tspan>\n",
              "    <tspan class=\"displacy-tag\" dy=\"2em\" fill=\"currentColor\" x=\"1100\">ADV</tspan>\n",
              "</text>\n",
              "\n",
              "<text class=\"displacy-token\" fill=\"currentColor\" text-anchor=\"middle\" y=\"222.0\">\n",
              "    <tspan class=\"displacy-word\" fill=\"currentColor\" x=\"1170\">devolveram</tspan>\n",
              "    <tspan class=\"displacy-tag\" dy=\"2em\" fill=\"currentColor\" x=\"1170\">VERB</tspan>\n",
              "</text>\n",
              "\n",
              "<text class=\"displacy-token\" fill=\"currentColor\" text-anchor=\"middle\" y=\"222.0\">\n",
              "    <tspan class=\"displacy-word\" fill=\"currentColor\" x=\"1240\">todos</tspan>\n",
              "    <tspan class=\"displacy-tag\" dy=\"2em\" fill=\"currentColor\" x=\"1240\">DET</tspan>\n",
              "</text>\n",
              "\n",
              "<text class=\"displacy-token\" fill=\"currentColor\" text-anchor=\"middle\" y=\"222.0\">\n",
              "    <tspan class=\"displacy-word\" fill=\"currentColor\" x=\"1310\">os</tspan>\n",
              "    <tspan class=\"displacy-tag\" dy=\"2em\" fill=\"currentColor\" x=\"1310\">DET</tspan>\n",
              "</text>\n",
              "\n",
              "<text class=\"displacy-token\" fill=\"currentColor\" text-anchor=\"middle\" y=\"222.0\">\n",
              "    <tspan class=\"displacy-word\" fill=\"currentColor\" x=\"1380\">ganhos</tspan>\n",
              "    <tspan class=\"displacy-tag\" dy=\"2em\" fill=\"currentColor\" x=\"1380\">NOUN</tspan>\n",
              "</text>\n",
              "\n",
              "<text class=\"displacy-token\" fill=\"currentColor\" text-anchor=\"middle\" y=\"222.0\">\n",
              "    <tspan class=\"displacy-word\" fill=\"currentColor\" x=\"1450\">do</tspan>\n",
              "    <tspan class=\"displacy-tag\" dy=\"2em\" fill=\"currentColor\" x=\"1450\">ADP</tspan>\n",
              "</text>\n",
              "\n",
              "<text class=\"displacy-token\" fill=\"currentColor\" text-anchor=\"middle\" y=\"222.0\">\n",
              "    <tspan class=\"displacy-word\" fill=\"currentColor\" x=\"1520\">período</tspan>\n",
              "    <tspan class=\"displacy-tag\" dy=\"2em\" fill=\"currentColor\" x=\"1520\">NOUN</tspan>\n",
              "</text>\n",
              "\n",
              "<text class=\"displacy-token\" fill=\"currentColor\" text-anchor=\"middle\" y=\"222.0\">\n",
              "    <tspan class=\"displacy-word\" fill=\"currentColor\" x=\"1590\">da</tspan>\n",
              "    <tspan class=\"displacy-tag\" dy=\"2em\" fill=\"currentColor\" x=\"1590\">ADP</tspan>\n",
              "</text>\n",
              "\n",
              "<text class=\"displacy-token\" fill=\"currentColor\" text-anchor=\"middle\" y=\"222.0\">\n",
              "    <tspan class=\"displacy-word\" fill=\"currentColor\" x=\"1660\">pandemia</tspan>\n",
              "    <tspan class=\"displacy-tag\" dy=\"2em\" fill=\"currentColor\" x=\"1660\">NOUN</tspan>\n",
              "</text>\n",
              "\n",
              "<g class=\"displacy-arrow\">\n",
              "    <path class=\"displacy-arc\" id=\"arrow-c720b5bc3fe1496a97061fd15df99e26-0-0\" stroke-width=\"2px\" d=\"M62,177.0 62,165.33333333333334 108.0,165.33333333333334 108.0,177.0\" fill=\"none\" stroke=\"currentColor\"/>\n",
              "    <text dy=\"1.25em\" style=\"font-size: 0.8em; letter-spacing: 1px\">\n",
              "        <textPath xlink:href=\"#arrow-c720b5bc3fe1496a97061fd15df99e26-0-0\" class=\"displacy-label\" startOffset=\"50%\" side=\"left\" fill=\"currentColor\" text-anchor=\"middle\">det</textPath>\n",
              "    </text>\n",
              "    <path class=\"displacy-arrowhead\" d=\"M62,179.0 L58,171.0 66,171.0\" fill=\"currentColor\"/>\n",
              "</g>\n",
              "\n",
              "<g class=\"displacy-arrow\">\n",
              "    <path class=\"displacy-arc\" id=\"arrow-c720b5bc3fe1496a97061fd15df99e26-0-1\" stroke-width=\"2px\" d=\"M132,177.0 132,118.66666666666666 610.0,118.66666666666666 610.0,177.0\" fill=\"none\" stroke=\"currentColor\"/>\n",
              "    <text dy=\"1.25em\" style=\"font-size: 0.8em; letter-spacing: 1px\">\n",
              "        <textPath xlink:href=\"#arrow-c720b5bc3fe1496a97061fd15df99e26-0-1\" class=\"displacy-label\" startOffset=\"50%\" side=\"left\" fill=\"currentColor\" text-anchor=\"middle\">nsubj</textPath>\n",
              "    </text>\n",
              "    <path class=\"displacy-arrowhead\" d=\"M132,179.0 L128,171.0 136,171.0\" fill=\"currentColor\"/>\n",
              "</g>\n",
              "\n",
              "<g class=\"displacy-arrow\">\n",
              "    <path class=\"displacy-arc\" id=\"arrow-c720b5bc3fe1496a97061fd15df99e26-0-2\" stroke-width=\"2px\" d=\"M202,177.0 202,165.33333333333334 248.0,165.33333333333334 248.0,177.0\" fill=\"none\" stroke=\"currentColor\"/>\n",
              "    <text dy=\"1.25em\" style=\"font-size: 0.8em; letter-spacing: 1px\">\n",
              "        <textPath xlink:href=\"#arrow-c720b5bc3fe1496a97061fd15df99e26-0-2\" class=\"displacy-label\" startOffset=\"50%\" side=\"left\" fill=\"currentColor\" text-anchor=\"middle\">case</textPath>\n",
              "    </text>\n",
              "    <path class=\"displacy-arrowhead\" d=\"M202,179.0 L198,171.0 206,171.0\" fill=\"currentColor\"/>\n",
              "</g>\n",
              "\n",
              "<g class=\"displacy-arrow\">\n",
              "    <path class=\"displacy-arc\" id=\"arrow-c720b5bc3fe1496a97061fd15df99e26-0-3\" stroke-width=\"2px\" d=\"M132,177.0 132,153.66666666666666 251.0,153.66666666666666 251.0,177.0\" fill=\"none\" stroke=\"currentColor\"/>\n",
              "    <text dy=\"1.25em\" style=\"font-size: 0.8em; letter-spacing: 1px\">\n",
              "        <textPath xlink:href=\"#arrow-c720b5bc3fe1496a97061fd15df99e26-0-3\" class=\"displacy-label\" startOffset=\"50%\" side=\"left\" fill=\"currentColor\" text-anchor=\"middle\">nmod</textPath>\n",
              "    </text>\n",
              "    <path class=\"displacy-arrowhead\" d=\"M251.0,179.0 L255.0,171.0 247.0,171.0\" fill=\"currentColor\"/>\n",
              "</g>\n",
              "\n",
              "<g class=\"displacy-arrow\">\n",
              "    <path class=\"displacy-arc\" id=\"arrow-c720b5bc3fe1496a97061fd15df99e26-0-4\" stroke-width=\"2px\" d=\"M272,177.0 272,165.33333333333334 318.0,165.33333333333334 318.0,177.0\" fill=\"none\" stroke=\"currentColor\"/>\n",
              "    <text dy=\"1.25em\" style=\"font-size: 0.8em; letter-spacing: 1px\">\n",
              "        <textPath xlink:href=\"#arrow-c720b5bc3fe1496a97061fd15df99e26-0-4\" class=\"displacy-label\" startOffset=\"50%\" side=\"left\" fill=\"currentColor\" text-anchor=\"middle\">appos</textPath>\n",
              "    </text>\n",
              "    <path class=\"displacy-arrowhead\" d=\"M318.0,179.0 L322.0,171.0 314.0,171.0\" fill=\"currentColor\"/>\n",
              "</g>\n",
              "\n",
              "<g class=\"displacy-arrow\">\n",
              "    <path class=\"displacy-arc\" id=\"arrow-c720b5bc3fe1496a97061fd15df99e26-0-5\" stroke-width=\"2px\" d=\"M272,177.0 272,153.66666666666666 391.0,153.66666666666666 391.0,177.0\" fill=\"none\" stroke=\"currentColor\"/>\n",
              "    <text dy=\"1.25em\" style=\"font-size: 0.8em; letter-spacing: 1px\">\n",
              "        <textPath xlink:href=\"#arrow-c720b5bc3fe1496a97061fd15df99e26-0-5\" class=\"displacy-label\" startOffset=\"50%\" side=\"left\" fill=\"currentColor\" text-anchor=\"middle\">flat:name</textPath>\n",
              "    </text>\n",
              "    <path class=\"displacy-arrowhead\" d=\"M391.0,179.0 L395.0,171.0 387.0,171.0\" fill=\"currentColor\"/>\n",
              "</g>\n",
              "\n",
              "<g class=\"displacy-arrow\">\n",
              "    <path class=\"displacy-arc\" id=\"arrow-c720b5bc3fe1496a97061fd15df99e26-0-6\" stroke-width=\"2px\" d=\"M272,177.0 272,142.0 464.0,142.0 464.0,177.0\" fill=\"none\" stroke=\"currentColor\"/>\n",
              "    <text dy=\"1.25em\" style=\"font-size: 0.8em; letter-spacing: 1px\">\n",
              "        <textPath xlink:href=\"#arrow-c720b5bc3fe1496a97061fd15df99e26-0-6\" class=\"displacy-label\" startOffset=\"50%\" side=\"left\" fill=\"currentColor\" text-anchor=\"middle\">conj</textPath>\n",
              "    </text>\n",
              "    <path class=\"displacy-arrowhead\" d=\"M464.0,179.0 L468.0,171.0 460.0,171.0\" fill=\"currentColor\"/>\n",
              "</g>\n",
              "\n",
              "<g class=\"displacy-arrow\">\n",
              "    <path class=\"displacy-arc\" id=\"arrow-c720b5bc3fe1496a97061fd15df99e26-0-7\" stroke-width=\"2px\" d=\"M272,177.0 272,130.33333333333334 537.0,130.33333333333334 537.0,177.0\" fill=\"none\" stroke=\"currentColor\"/>\n",
              "    <text dy=\"1.25em\" style=\"font-size: 0.8em; letter-spacing: 1px\">\n",
              "        <textPath xlink:href=\"#arrow-c720b5bc3fe1496a97061fd15df99e26-0-7\" class=\"displacy-label\" startOffset=\"50%\" side=\"left\" fill=\"currentColor\" text-anchor=\"middle\">conj</textPath>\n",
              "    </text>\n",
              "    <path class=\"displacy-arrowhead\" d=\"M537.0,179.0 L541.0,171.0 533.0,171.0\" fill=\"currentColor\"/>\n",
              "</g>\n",
              "\n",
              "<g class=\"displacy-arrow\">\n",
              "    <path class=\"displacy-arc\" id=\"arrow-c720b5bc3fe1496a97061fd15df99e26-0-8\" stroke-width=\"2px\" d=\"M622,177.0 622,165.33333333333334 668.0,165.33333333333334 668.0,177.0\" fill=\"none\" stroke=\"currentColor\"/>\n",
              "    <text dy=\"1.25em\" style=\"font-size: 0.8em; letter-spacing: 1px\">\n",
              "        <textPath xlink:href=\"#arrow-c720b5bc3fe1496a97061fd15df99e26-0-8\" class=\"displacy-label\" startOffset=\"50%\" side=\"left\" fill=\"currentColor\" text-anchor=\"middle\">obj</textPath>\n",
              "    </text>\n",
              "    <path class=\"displacy-arrowhead\" d=\"M668.0,179.0 L672.0,171.0 664.0,171.0\" fill=\"currentColor\"/>\n",
              "</g>\n",
              "\n",
              "<g class=\"displacy-arrow\">\n",
              "    <path class=\"displacy-arc\" id=\"arrow-c720b5bc3fe1496a97061fd15df99e26-0-9\" stroke-width=\"2px\" d=\"M762,177.0 762,165.33333333333334 808.0,165.33333333333334 808.0,177.0\" fill=\"none\" stroke=\"currentColor\"/>\n",
              "    <text dy=\"1.25em\" style=\"font-size: 0.8em; letter-spacing: 1px\">\n",
              "        <textPath xlink:href=\"#arrow-c720b5bc3fe1496a97061fd15df99e26-0-9\" class=\"displacy-label\" startOffset=\"50%\" side=\"left\" fill=\"currentColor\" text-anchor=\"middle\">case</textPath>\n",
              "    </text>\n",
              "    <path class=\"displacy-arrowhead\" d=\"M762,179.0 L758,171.0 766,171.0\" fill=\"currentColor\"/>\n",
              "</g>\n",
              "\n",
              "<g class=\"displacy-arrow\">\n",
              "    <path class=\"displacy-arc\" id=\"arrow-c720b5bc3fe1496a97061fd15df99e26-0-10\" stroke-width=\"2px\" d=\"M692,177.0 692,153.66666666666666 811.0,153.66666666666666 811.0,177.0\" fill=\"none\" stroke=\"currentColor\"/>\n",
              "    <text dy=\"1.25em\" style=\"font-size: 0.8em; letter-spacing: 1px\">\n",
              "        <textPath xlink:href=\"#arrow-c720b5bc3fe1496a97061fd15df99e26-0-10\" class=\"displacy-label\" startOffset=\"50%\" side=\"left\" fill=\"currentColor\" text-anchor=\"middle\">nmod</textPath>\n",
              "    </text>\n",
              "    <path class=\"displacy-arrowhead\" d=\"M811.0,179.0 L815.0,171.0 807.0,171.0\" fill=\"currentColor\"/>\n",
              "</g>\n",
              "\n",
              "<g class=\"displacy-arrow\">\n",
              "    <path class=\"displacy-arc\" id=\"arrow-c720b5bc3fe1496a97061fd15df99e26-0-11\" stroke-width=\"2px\" d=\"M902,177.0 902,165.33333333333334 948.0,165.33333333333334 948.0,177.0\" fill=\"none\" stroke=\"currentColor\"/>\n",
              "    <text dy=\"1.25em\" style=\"font-size: 0.8em; letter-spacing: 1px\">\n",
              "        <textPath xlink:href=\"#arrow-c720b5bc3fe1496a97061fd15df99e26-0-11\" class=\"displacy-label\" startOffset=\"50%\" side=\"left\" fill=\"currentColor\" text-anchor=\"middle\">case</textPath>\n",
              "    </text>\n",
              "    <path class=\"displacy-arrowhead\" d=\"M902,179.0 L898,171.0 906,171.0\" fill=\"currentColor\"/>\n",
              "</g>\n",
              "\n",
              "<g class=\"displacy-arrow\">\n",
              "    <path class=\"displacy-arc\" id=\"arrow-c720b5bc3fe1496a97061fd15df99e26-0-12\" stroke-width=\"2px\" d=\"M692,177.0 692,142.0 954.0,142.0 954.0,177.0\" fill=\"none\" stroke=\"currentColor\"/>\n",
              "    <text dy=\"1.25em\" style=\"font-size: 0.8em; letter-spacing: 1px\">\n",
              "        <textPath xlink:href=\"#arrow-c720b5bc3fe1496a97061fd15df99e26-0-12\" class=\"displacy-label\" startOffset=\"50%\" side=\"left\" fill=\"currentColor\" text-anchor=\"middle\">nmod</textPath>\n",
              "    </text>\n",
              "    <path class=\"displacy-arrowhead\" d=\"M954.0,179.0 L958.0,171.0 950.0,171.0\" fill=\"currentColor\"/>\n",
              "</g>\n",
              "\n",
              "<g class=\"displacy-arrow\">\n",
              "    <path class=\"displacy-arc\" id=\"arrow-c720b5bc3fe1496a97061fd15df99e26-0-13\" stroke-width=\"2px\" d=\"M1042,177.0 1042,153.66666666666666 1161.0,153.66666666666666 1161.0,177.0\" fill=\"none\" stroke=\"currentColor\"/>\n",
              "    <text dy=\"1.25em\" style=\"font-size: 0.8em; letter-spacing: 1px\">\n",
              "        <textPath xlink:href=\"#arrow-c720b5bc3fe1496a97061fd15df99e26-0-13\" class=\"displacy-label\" startOffset=\"50%\" side=\"left\" fill=\"currentColor\" text-anchor=\"middle\">advmod</textPath>\n",
              "    </text>\n",
              "    <path class=\"displacy-arrowhead\" d=\"M1042,179.0 L1038,171.0 1046,171.0\" fill=\"currentColor\"/>\n",
              "</g>\n",
              "\n",
              "<g class=\"displacy-arrow\">\n",
              "    <path class=\"displacy-arc\" id=\"arrow-c720b5bc3fe1496a97061fd15df99e26-0-14\" stroke-width=\"2px\" d=\"M1112,177.0 1112,165.33333333333334 1158.0,165.33333333333334 1158.0,177.0\" fill=\"none\" stroke=\"currentColor\"/>\n",
              "    <text dy=\"1.25em\" style=\"font-size: 0.8em; letter-spacing: 1px\">\n",
              "        <textPath xlink:href=\"#arrow-c720b5bc3fe1496a97061fd15df99e26-0-14\" class=\"displacy-label\" startOffset=\"50%\" side=\"left\" fill=\"currentColor\" text-anchor=\"middle\">advmod</textPath>\n",
              "    </text>\n",
              "    <path class=\"displacy-arrowhead\" d=\"M1112,179.0 L1108,171.0 1116,171.0\" fill=\"currentColor\"/>\n",
              "</g>\n",
              "\n",
              "<g class=\"displacy-arrow\">\n",
              "    <path class=\"displacy-arc\" id=\"arrow-c720b5bc3fe1496a97061fd15df99e26-0-15\" stroke-width=\"2px\" d=\"M1252,177.0 1252,153.66666666666666 1371.0,153.66666666666666 1371.0,177.0\" fill=\"none\" stroke=\"currentColor\"/>\n",
              "    <text dy=\"1.25em\" style=\"font-size: 0.8em; letter-spacing: 1px\">\n",
              "        <textPath xlink:href=\"#arrow-c720b5bc3fe1496a97061fd15df99e26-0-15\" class=\"displacy-label\" startOffset=\"50%\" side=\"left\" fill=\"currentColor\" text-anchor=\"middle\">det</textPath>\n",
              "    </text>\n",
              "    <path class=\"displacy-arrowhead\" d=\"M1252,179.0 L1248,171.0 1256,171.0\" fill=\"currentColor\"/>\n",
              "</g>\n",
              "\n",
              "<g class=\"displacy-arrow\">\n",
              "    <path class=\"displacy-arc\" id=\"arrow-c720b5bc3fe1496a97061fd15df99e26-0-16\" stroke-width=\"2px\" d=\"M1322,177.0 1322,165.33333333333334 1368.0,165.33333333333334 1368.0,177.0\" fill=\"none\" stroke=\"currentColor\"/>\n",
              "    <text dy=\"1.25em\" style=\"font-size: 0.8em; letter-spacing: 1px\">\n",
              "        <textPath xlink:href=\"#arrow-c720b5bc3fe1496a97061fd15df99e26-0-16\" class=\"displacy-label\" startOffset=\"50%\" side=\"left\" fill=\"currentColor\" text-anchor=\"middle\">det</textPath>\n",
              "    </text>\n",
              "    <path class=\"displacy-arrowhead\" d=\"M1322,179.0 L1318,171.0 1326,171.0\" fill=\"currentColor\"/>\n",
              "</g>\n",
              "\n",
              "<g class=\"displacy-arrow\">\n",
              "    <path class=\"displacy-arc\" id=\"arrow-c720b5bc3fe1496a97061fd15df99e26-0-17\" stroke-width=\"2px\" d=\"M1182,177.0 1182,142.0 1374.0,142.0 1374.0,177.0\" fill=\"none\" stroke=\"currentColor\"/>\n",
              "    <text dy=\"1.25em\" style=\"font-size: 0.8em; letter-spacing: 1px\">\n",
              "        <textPath xlink:href=\"#arrow-c720b5bc3fe1496a97061fd15df99e26-0-17\" class=\"displacy-label\" startOffset=\"50%\" side=\"left\" fill=\"currentColor\" text-anchor=\"middle\">obj</textPath>\n",
              "    </text>\n",
              "    <path class=\"displacy-arrowhead\" d=\"M1374.0,179.0 L1378.0,171.0 1370.0,171.0\" fill=\"currentColor\"/>\n",
              "</g>\n",
              "\n",
              "<g class=\"displacy-arrow\">\n",
              "    <path class=\"displacy-arc\" id=\"arrow-c720b5bc3fe1496a97061fd15df99e26-0-18\" stroke-width=\"2px\" d=\"M1462,177.0 1462,165.33333333333334 1508.0,165.33333333333334 1508.0,177.0\" fill=\"none\" stroke=\"currentColor\"/>\n",
              "    <text dy=\"1.25em\" style=\"font-size: 0.8em; letter-spacing: 1px\">\n",
              "        <textPath xlink:href=\"#arrow-c720b5bc3fe1496a97061fd15df99e26-0-18\" class=\"displacy-label\" startOffset=\"50%\" side=\"left\" fill=\"currentColor\" text-anchor=\"middle\">case</textPath>\n",
              "    </text>\n",
              "    <path class=\"displacy-arrowhead\" d=\"M1462,179.0 L1458,171.0 1466,171.0\" fill=\"currentColor\"/>\n",
              "</g>\n",
              "\n",
              "<g class=\"displacy-arrow\">\n",
              "    <path class=\"displacy-arc\" id=\"arrow-c720b5bc3fe1496a97061fd15df99e26-0-19\" stroke-width=\"2px\" d=\"M1392,177.0 1392,153.66666666666666 1511.0,153.66666666666666 1511.0,177.0\" fill=\"none\" stroke=\"currentColor\"/>\n",
              "    <text dy=\"1.25em\" style=\"font-size: 0.8em; letter-spacing: 1px\">\n",
              "        <textPath xlink:href=\"#arrow-c720b5bc3fe1496a97061fd15df99e26-0-19\" class=\"displacy-label\" startOffset=\"50%\" side=\"left\" fill=\"currentColor\" text-anchor=\"middle\">nmod</textPath>\n",
              "    </text>\n",
              "    <path class=\"displacy-arrowhead\" d=\"M1511.0,179.0 L1515.0,171.0 1507.0,171.0\" fill=\"currentColor\"/>\n",
              "</g>\n",
              "\n",
              "<g class=\"displacy-arrow\">\n",
              "    <path class=\"displacy-arc\" id=\"arrow-c720b5bc3fe1496a97061fd15df99e26-0-20\" stroke-width=\"2px\" d=\"M1602,177.0 1602,165.33333333333334 1648.0,165.33333333333334 1648.0,177.0\" fill=\"none\" stroke=\"currentColor\"/>\n",
              "    <text dy=\"1.25em\" style=\"font-size: 0.8em; letter-spacing: 1px\">\n",
              "        <textPath xlink:href=\"#arrow-c720b5bc3fe1496a97061fd15df99e26-0-20\" class=\"displacy-label\" startOffset=\"50%\" side=\"left\" fill=\"currentColor\" text-anchor=\"middle\">case</textPath>\n",
              "    </text>\n",
              "    <path class=\"displacy-arrowhead\" d=\"M1602,179.0 L1598,171.0 1606,171.0\" fill=\"currentColor\"/>\n",
              "</g>\n",
              "\n",
              "<g class=\"displacy-arrow\">\n",
              "    <path class=\"displacy-arc\" id=\"arrow-c720b5bc3fe1496a97061fd15df99e26-0-21\" stroke-width=\"2px\" d=\"M1532,177.0 1532,153.66666666666666 1651.0,153.66666666666666 1651.0,177.0\" fill=\"none\" stroke=\"currentColor\"/>\n",
              "    <text dy=\"1.25em\" style=\"font-size: 0.8em; letter-spacing: 1px\">\n",
              "        <textPath xlink:href=\"#arrow-c720b5bc3fe1496a97061fd15df99e26-0-21\" class=\"displacy-label\" startOffset=\"50%\" side=\"left\" fill=\"currentColor\" text-anchor=\"middle\">nmod</textPath>\n",
              "    </text>\n",
              "    <path class=\"displacy-arrowhead\" d=\"M1651.0,179.0 L1655.0,171.0 1647.0,171.0\" fill=\"currentColor\"/>\n",
              "</g>\n",
              "</svg></span>"
            ]
          },
          "metadata": {}
        }
      ]
    }
  ]
}